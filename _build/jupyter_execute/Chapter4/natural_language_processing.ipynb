{
 "cells": [
  {
   "cell_type": "markdown",
   "id": "ff399a73",
   "metadata": {},
   "source": [
    "## Natural Language Processing"
   ]
  },
  {
   "cell_type": "markdown",
   "id": "54360b3e",
   "metadata": {},
   "source": [
    "This section some tools to process and work with text."
   ]
  },
  {
   "cell_type": "markdown",
   "id": "e1c75fd5",
   "metadata": {},
   "source": [
    "### TextBlob: Processing Text in One Line of Code"
   ]
  },
  {
   "cell_type": "markdown",
   "id": "2b6afee6",
   "metadata": {},
   "source": [
    "Processing text doesn’t need to be hard. If you want to find the sentiment of the text, tokenize text, find noun phrase and word frequencies, correct spelling, etc in one line of code, try TextBlob.\n"
   ]
  },
  {
   "cell_type": "code",
   "execution_count": 1,
   "id": "29d77f50",
   "metadata": {
    "ExecuteTime": {
     "end_time": "2021-09-11T19:51:37.955589Z",
     "start_time": "2021-09-11T19:51:31.261340Z"
    },
    "tags": [
     "hide-cell"
    ]
   },
   "outputs": [
    {
     "name": "stdout",
     "output_type": "stream",
     "text": [
      "[nltk_data] Downloading package brown to /home/khuyen/nltk_data...\r\n"
     ]
    },
    {
     "name": "stdout",
     "output_type": "stream",
     "text": [
      "[nltk_data]   Package brown is already up-to-date!\r\n",
      "[nltk_data] Downloading package punkt to /home/khuyen/nltk_data...\r\n"
     ]
    },
    {
     "name": "stdout",
     "output_type": "stream",
     "text": [
      "[nltk_data]   Package punkt is already up-to-date!\r\n",
      "[nltk_data] Downloading package wordnet to /home/khuyen/nltk_data...\r\n"
     ]
    },
    {
     "name": "stdout",
     "output_type": "stream",
     "text": [
      "[nltk_data]   Package wordnet is already up-to-date!\r\n",
      "[nltk_data] Downloading package averaged_perceptron_tagger to\r\n",
      "[nltk_data]     /home/khuyen/nltk_data...\r\n",
      "[nltk_data]   Package averaged_perceptron_tagger is already up-to-\r\n",
      "[nltk_data]       date!\r\n",
      "[nltk_data] Downloading package conll2000 to /home/khuyen/nltk_data...\r\n",
      "[nltk_data]   Package conll2000 is already up-to-date!\r\n",
      "[nltk_data] Downloading package movie_reviews to\r\n",
      "[nltk_data]     /home/khuyen/nltk_data...\r\n",
      "[nltk_data]   Package movie_reviews is already up-to-date!\r\n",
      "Finished.\r\n"
     ]
    }
   ],
   "source": [
    "!python -m textblob.download_corpora"
   ]
  },
  {
   "cell_type": "code",
   "execution_count": 2,
   "id": "057347eb",
   "metadata": {
    "ExecuteTime": {
     "end_time": "2021-09-11T19:52:20.151345Z",
     "start_time": "2021-09-11T19:52:19.550236Z"
    }
   },
   "outputs": [
    {
     "data": {
      "text/plain": [
       "WordList(['Today', 'is', 'a', 'beautiful', 'day'])"
      ]
     },
     "execution_count": 2,
     "metadata": {},
     "output_type": "execute_result"
    }
   ],
   "source": [
    "from textblob import TextBlob\n",
    "\n",
    "text = \"Today is a beautiful day\"\n",
    "blob = TextBlob(text)\n",
    "\n",
    "blob.words # Word tokenization"
   ]
  },
  {
   "cell_type": "code",
   "execution_count": 3,
   "id": "9e54af87",
   "metadata": {
    "ExecuteTime": {
     "end_time": "2021-09-11T20:00:36.202229Z",
     "start_time": "2021-09-11T20:00:34.486752Z"
    }
   },
   "outputs": [
    {
     "data": {
      "text/plain": [
       "WordList(['beautiful day'])"
      ]
     },
     "execution_count": 3,
     "metadata": {},
     "output_type": "execute_result"
    }
   ],
   "source": [
    "blob.noun_phrases # Noun phrase extraction"
   ]
  },
  {
   "cell_type": "code",
   "execution_count": 4,
   "id": "ca8105e8",
   "metadata": {
    "ExecuteTime": {
     "end_time": "2021-09-11T20:00:50.304564Z",
     "start_time": "2021-09-11T20:00:50.214464Z"
    }
   },
   "outputs": [
    {
     "data": {
      "text/plain": [
       "Sentiment(polarity=0.85, subjectivity=1.0)"
      ]
     },
     "execution_count": 4,
     "metadata": {},
     "output_type": "execute_result"
    }
   ],
   "source": [
    "blob.sentiment # Sentiment analysis"
   ]
  },
  {
   "cell_type": "code",
   "execution_count": 5,
   "id": "b8bfd4bb",
   "metadata": {
    "ExecuteTime": {
     "end_time": "2021-09-11T20:01:06.103565Z",
     "start_time": "2021-09-11T20:01:06.094771Z"
    }
   },
   "outputs": [
    {
     "data": {
      "text/plain": [
       "defaultdict(int, {'today': 1, 'is': 1, 'a': 1, 'beautiful': 1, 'day': 1})"
      ]
     },
     "execution_count": 5,
     "metadata": {},
     "output_type": "execute_result"
    }
   ],
   "source": [
    "blob.word_counts # Word counts"
   ]
  },
  {
   "cell_type": "code",
   "execution_count": 6,
   "id": "ec646b70",
   "metadata": {
    "ExecuteTime": {
     "end_time": "2021-09-11T20:01:19.435133Z",
     "start_time": "2021-09-11T20:01:19.335471Z"
    }
   },
   "outputs": [
    {
     "data": {
      "text/plain": [
       "TextBlob(\"Today is a beautiful day\")"
      ]
     },
     "execution_count": 6,
     "metadata": {},
     "output_type": "execute_result"
    }
   ],
   "source": [
    "# Spelling correction\n",
    "text = \"Today is a beutiful day\"\n",
    "blob = TextBlob(text)\n",
    "blob.correct()"
   ]
  },
  {
   "cell_type": "markdown",
   "id": "a31d2aa9",
   "metadata": {},
   "source": [
    "[Link to TextBlob](https://textblob.readthedocs.io/en/dev/).\n",
    "\n",
    "[Link to my article about TextBlob](https://towardsdatascience.com/supercharge-your-python-string-with-textblob-2d9c08a8da05?sk=b9de5981cf74c0adf8d9f2a913e3ca05)."
   ]
  },
  {
   "cell_type": "markdown",
   "id": "7c03fbea",
   "metadata": {},
   "source": [
    "### sumy: Summarize Text in One Line of Code"
   ]
  },
  {
   "cell_type": "markdown",
   "id": "7a8be93b",
   "metadata": {},
   "source": [
    "If you want to summarize text using Python or command line, try sumy.\n",
    "\n",
    "The great things about sumy compared to other summarization tools are that it is easy to use and it allows you to use 7 different methods to summarize the text.\n",
    "\n",
    "Below is how sumy summarizes the article How to Learn Data Science (Step-By-Step) in 2020 at DataQuest."
   ]
  },
  {
   "cell_type": "markdown",
   "id": "fb0e3eda",
   "metadata": {},
   "source": [
    "```bash\n",
    "$ sumy lex-rank --length=10 --url=https://www.dataquest.io/blog/learn-data-science/ \n",
    "```"
   ]
  },
  {
   "cell_type": "code",
   "execution_count": 7,
   "id": "9749ef2a",
   "metadata": {
    "ExecuteTime": {
     "end_time": "2021-09-11T20:04:14.779605Z",
     "start_time": "2021-09-11T20:04:13.400330Z"
    }
   },
   "outputs": [
    {
     "name": "stdout",
     "output_type": "stream",
     "text": [
      "So how do you start to learn data science?\r\n",
      "If I had started learning data science this way, I never would have kept going.\r\n",
      "I learn when I’m motivated, and when I know why I’m learning something.\r\n",
      "There’s some science behind this, too.\r\n",
      "If you want to learn data science or just pick up some data science skills, your first goal should be to learn to love data.\r\n",
      "But it’s important to find that thing that makes you want to learn.\r\n",
      "By working on projects, you gain skills that are immediately applicable and useful, because real-world data scientists have to see data science projects through from start to finish, and most of that work is in fundamentals like cleaning and managing the data.\r\n",
      "And so on, until the algorithm worked well.\r\n",
      "Find people to work with at meetups.\r\n",
      "For more information on these, you can take a look at our Data Scientist learning path , which is designed to teach all of the important data science skills for Python learners.\r\n"
     ]
    }
   ],
   "source": [
    "!sumy lex-rank --length=10 --url=https://www.dataquest.io/blog/learn-data-science/ "
   ]
  },
  {
   "cell_type": "markdown",
   "id": "6914d460",
   "metadata": {},
   "source": [
    "[Link to Sumy](https://github.com/miso-belica/sumy)."
   ]
  },
  {
   "cell_type": "markdown",
   "id": "0833e897",
   "metadata": {},
   "source": [
    "### Spacy_streamlit: Create a Web App to Visualize Your Text in 3 Lines of Code"
   ]
  },
  {
   "cell_type": "markdown",
   "id": "7b3bf91f",
   "metadata": {},
   "source": [
    "If you want to quickly create an app to visualize the structure of a text, try spacy_streamlit. "
   ]
  },
  {
   "cell_type": "markdown",
   "id": "fca633be",
   "metadata": {
    "ExecuteTime": {
     "end_time": "2021-09-12T12:22:00.516477Z",
     "start_time": "2021-09-12T12:22:00.343387Z"
    },
    "tags": [
     "hide-output"
    ]
   },
   "source": [
    "To understand how to use spacy_streamlit, we add the code below to a file called `streamlit_app.py`:\n",
    "```python\n",
    "# streamlit_app.py\n",
    "import spacy_streamlit \n",
    "\n",
    "models = ['en_core_web_sm']\n",
    "text = \"Today is a beautiful day\"\n",
    "spacy_streamlit.visualize(models, text)\n",
    "```"
   ]
  },
  {
   "cell_type": "markdown",
   "id": "fa669a16",
   "metadata": {},
   "source": [
    "On your terminal, type:\n",
    "```bash\n",
    "$ streamlit run streamlit_app.py\n",
    "```\n",
    "Output:"
   ]
  },
  {
   "cell_type": "code",
   "execution_count": 8,
   "id": "8ea33dea",
   "metadata": {
    "ExecuteTime": {
     "end_time": "2021-09-12T12:24:08.654005Z",
     "start_time": "2021-09-12T12:24:03.503893Z"
    },
    "tags": [
     "hide-cell"
    ]
   },
   "outputs": [
    {
     "name": "stdout",
     "output_type": "stream",
     "text": [
      "Collecting en-core-web-sm==3.1.0\r\n"
     ]
    },
    {
     "name": "stdout",
     "output_type": "stream",
     "text": [
      "  Downloading https://github.com/explosion/spacy-models/releases/download/en_core_web_sm-3.1.0/en_core_web_sm-3.1.0-py3-none-any.whl (13.6 MB)\r\n",
      "\u001b[?25l\r",
      "\u001b[K     |                                | 10 kB 1.5 MB/s eta 0:00:10\r",
      "\u001b[K     |                                | 20 kB 1.1 MB/s eta 0:00:13\r",
      "\u001b[K     |                                | 30 kB 1.2 MB/s eta 0:00:12\r",
      "\u001b[K     |                                | 40 kB 1.4 MB/s eta 0:00:10\r",
      "\u001b[K     |▏                               | 51 kB 1.5 MB/s eta 0:00:10"
     ]
    },
    {
     "name": "stdout",
     "output_type": "stream",
     "text": [
      "\r",
      "\u001b[K     |▏                               | 61 kB 1.6 MB/s eta 0:00:09\r",
      "\u001b[K     |▏                               | 71 kB 1.6 MB/s eta 0:00:09\r",
      "\u001b[K     |▏                               | 81 kB 1.7 MB/s eta 0:00:09\r",
      "\u001b[K     |▏                               | 92 kB 1.8 MB/s eta 0:00:08\r",
      "\u001b[K     |▎                               | 102 kB 1.9 MB/s eta 0:00:07\r",
      "\u001b[K     |▎                               | 112 kB 1.9 MB/s eta 0:00:07\r",
      "\u001b[K     |▎                               | 122 kB 1.9 MB/s eta 0:00:07\r",
      "\u001b[K     |▎                               | 133 kB 1.9 MB/s eta 0:00:07\r",
      "\u001b[K     |▍                               | 143 kB 1.9 MB/s eta 0:00:07\r",
      "\u001b[K     |▍                               | 153 kB 1.9 MB/s eta 0:00:07\r",
      "\u001b[K     |▍                               | 163 kB 1.9 MB/s eta 0:00:07\r",
      "\u001b[K     |▍                               | 174 kB 1.9 MB/s eta 0:00:07\r",
      "\u001b[K     |▍                               | 184 kB 1.9 MB/s eta 0:00:07\r",
      "\u001b[K     |▌                               | 194 kB 1.9 MB/s eta 0:00:07\r",
      "\u001b[K     |▌                               | 204 kB 1.9 MB/s eta 0:00:07\r",
      "\u001b[K     |▌                               | 215 kB 1.9 MB/s eta 0:00:07\r",
      "\u001b[K     |▌                               | 225 kB 1.9 MB/s eta 0:00:07\r",
      "\u001b[K     |▌                               | 235 kB 1.9 MB/s eta 0:00:07\r",
      "\u001b[K     |▋                               | 245 kB 1.9 MB/s eta 0:00:07\r",
      "\u001b[K     |▋                               | 256 kB 1.9 MB/s eta 0:00:07\r",
      "\u001b[K     |▋                               | 266 kB 1.9 MB/s eta 0:00:07\r",
      "\u001b[K     |▋                               | 276 kB 1.9 MB/s eta 0:00:07\r",
      "\u001b[K     |▊                               | 286 kB 1.9 MB/s eta 0:00:07\r",
      "\u001b[K     |▊                               | 296 kB 1.9 MB/s eta 0:00:07\r",
      "\u001b[K     |▊                               | 307 kB 1.9 MB/s eta 0:00:07\r",
      "\u001b[K     |▊                               | 317 kB 1.9 MB/s eta 0:00:07"
     ]
    },
    {
     "name": "stdout",
     "output_type": "stream",
     "text": [
      "\r",
      "\u001b[K     |▊                               | 327 kB 1.9 MB/s eta 0:00:07\r",
      "\u001b[K     |▉                               | 337 kB 1.9 MB/s eta 0:00:07\r",
      "\u001b[K     |▉                               | 348 kB 1.9 MB/s eta 0:00:07\r",
      "\u001b[K     |▉                               | 358 kB 1.9 MB/s eta 0:00:07\r",
      "\u001b[K     |▉                               | 368 kB 1.9 MB/s eta 0:00:07\r",
      "\u001b[K     |█                               | 378 kB 1.9 MB/s eta 0:00:07\r",
      "\u001b[K     |█                               | 389 kB 1.9 MB/s eta 0:00:07\r",
      "\u001b[K     |█                               | 399 kB 1.9 MB/s eta 0:00:07\r",
      "\u001b[K     |█                               | 409 kB 1.9 MB/s eta 0:00:07\r",
      "\u001b[K     |█                               | 419 kB 1.9 MB/s eta 0:00:07\r",
      "\u001b[K     |█                               | 430 kB 1.9 MB/s eta 0:00:07\r",
      "\u001b[K     |█                               | 440 kB 1.9 MB/s eta 0:00:07\r",
      "\u001b[K     |█                               | 450 kB 1.9 MB/s eta 0:00:07\r",
      "\u001b[K     |█                               | 460 kB 1.9 MB/s eta 0:00:07\r",
      "\u001b[K     |█                               | 471 kB 1.9 MB/s eta 0:00:07\r",
      "\u001b[K     |█▏                              | 481 kB 1.9 MB/s eta 0:00:07\r",
      "\u001b[K     |█▏                              | 491 kB 1.9 MB/s eta 0:00:07\r",
      "\u001b[K     |█▏                              | 501 kB 1.9 MB/s eta 0:00:07\r",
      "\u001b[K     |█▏                              | 512 kB 1.9 MB/s eta 0:00:07\r",
      "\u001b[K     |█▎                              | 522 kB 1.9 MB/s eta 0:00:07\r",
      "\u001b[K     |█▎                              | 532 kB 1.9 MB/s eta 0:00:07\r",
      "\u001b[K     |█▎                              | 542 kB 1.9 MB/s eta 0:00:07\r",
      "\u001b[K     |█▎                              | 552 kB 1.9 MB/s eta 0:00:07\r",
      "\u001b[K     |█▎                              | 563 kB 1.9 MB/s eta 0:00:07\r",
      "\u001b[K     |█▍                              | 573 kB 1.9 MB/s eta 0:00:07\r",
      "\u001b[K     |█▍                              | 583 kB 1.9 MB/s eta 0:00:07\r",
      "\u001b[K     |█▍                              | 593 kB 1.9 MB/s eta 0:00:07\r",
      "\u001b[K     |█▍                              | 604 kB 1.9 MB/s eta 0:00:07\r",
      "\u001b[K     |█▍                              | 614 kB 1.9 MB/s eta 0:00:07\r",
      "\u001b[K     |█▌                              | 624 kB 1.9 MB/s eta 0:00:07\r",
      "\u001b[K     |█▌                              | 634 kB 1.9 MB/s eta 0:00:07\r",
      "\u001b[K     |█▌                              | 645 kB 1.9 MB/s eta 0:00:07\r",
      "\u001b[K     |█▌                              | 655 kB 1.9 MB/s eta 0:00:07\r",
      "\u001b[K     |█▋                              | 665 kB 1.9 MB/s eta 0:00:07\r",
      "\u001b[K     |█▋                              | 675 kB 1.9 MB/s eta 0:00:07\r",
      "\u001b[K     |█▋                              | 686 kB 1.9 MB/s eta 0:00:07"
     ]
    },
    {
     "name": "stdout",
     "output_type": "stream",
     "text": [
      "\r",
      "\u001b[K     |█▋                              | 696 kB 1.9 MB/s eta 0:00:07\r",
      "\u001b[K     |█▋                              | 706 kB 1.9 MB/s eta 0:00:07\r",
      "\u001b[K     |█▊                              | 716 kB 1.9 MB/s eta 0:00:07\r",
      "\u001b[K     |█▊                              | 727 kB 1.9 MB/s eta 0:00:07\r",
      "\u001b[K     |█▊                              | 737 kB 1.9 MB/s eta 0:00:07\r",
      "\u001b[K     |█▊                              | 747 kB 1.9 MB/s eta 0:00:07\r",
      "\u001b[K     |█▉                              | 757 kB 1.9 MB/s eta 0:00:07\r",
      "\u001b[K     |█▉                              | 768 kB 1.9 MB/s eta 0:00:07\r",
      "\u001b[K     |█▉                              | 778 kB 1.9 MB/s eta 0:00:07\r",
      "\u001b[K     |█▉                              | 788 kB 1.9 MB/s eta 0:00:07\r",
      "\u001b[K     |█▉                              | 798 kB 1.9 MB/s eta 0:00:07\r",
      "\u001b[K     |██                              | 808 kB 1.9 MB/s eta 0:00:07\r",
      "\u001b[K     |██                              | 819 kB 1.9 MB/s eta 0:00:07\r",
      "\u001b[K     |██                              | 829 kB 1.9 MB/s eta 0:00:07\r",
      "\u001b[K     |██                              | 839 kB 1.9 MB/s eta 0:00:07\r",
      "\u001b[K     |██                              | 849 kB 1.9 MB/s eta 0:00:07\r",
      "\u001b[K     |██                              | 860 kB 1.9 MB/s eta 0:00:07\r",
      "\u001b[K     |██                              | 870 kB 1.9 MB/s eta 0:00:07\r",
      "\u001b[K     |██                              | 880 kB 1.9 MB/s eta 0:00:07\r",
      "\u001b[K     |██                              | 890 kB 1.9 MB/s eta 0:00:07\r",
      "\u001b[K     |██▏                             | 901 kB 1.9 MB/s eta 0:00:07\r",
      "\u001b[K     |██▏                             | 911 kB 1.9 MB/s eta 0:00:07\r",
      "\u001b[K     |██▏                             | 921 kB 1.9 MB/s eta 0:00:07\r",
      "\u001b[K     |██▏                             | 931 kB 1.9 MB/s eta 0:00:07\r",
      "\u001b[K     |██▏                             | 942 kB 1.9 MB/s eta 0:00:07\r",
      "\u001b[K     |██▎                             | 952 kB 1.9 MB/s eta 0:00:07\r",
      "\u001b[K     |██▎                             | 962 kB 1.9 MB/s eta 0:00:07\r",
      "\u001b[K     |██▎                             | 972 kB 1.9 MB/s eta 0:00:07\r",
      "\u001b[K     |██▎                             | 983 kB 1.9 MB/s eta 0:00:07\r",
      "\u001b[K     |██▎                             | 993 kB 1.9 MB/s eta 0:00:07\r",
      "\u001b[K     |██▍                             | 1.0 MB 1.9 MB/s eta 0:00:07\r",
      "\u001b[K     |██▍                             | 1.0 MB 1.9 MB/s eta 0:00:07\r",
      "\u001b[K     |██▍                             | 1.0 MB 1.9 MB/s eta 0:00:07\r",
      "\u001b[K     |██▍                             | 1.0 MB 1.9 MB/s eta 0:00:07\r",
      "\u001b[K     |██▌                             | 1.0 MB 1.9 MB/s eta 0:00:07\r",
      "\u001b[K     |██▌                             | 1.1 MB 1.9 MB/s eta 0:00:07\r",
      "\u001b[K     |██▌                             | 1.1 MB 1.9 MB/s eta 0:00:07\r",
      "\u001b[K     |██▌                             | 1.1 MB 1.9 MB/s eta 0:00:07\r",
      "\u001b[K     |██▌                             | 1.1 MB 1.9 MB/s eta 0:00:07\r",
      "\u001b[K     |██▋                             | 1.1 MB 1.9 MB/s eta 0:00:07\r",
      "\u001b[K     |██▋                             | 1.1 MB 1.9 MB/s eta 0:00:07\r",
      "\u001b[K     |██▋                             | 1.1 MB 1.9 MB/s eta 0:00:07\r",
      "\u001b[K     |██▋                             | 1.1 MB 1.9 MB/s eta 0:00:07\r",
      "\u001b[K     |██▊                             | 1.1 MB 1.9 MB/s eta 0:00:07\r",
      "\u001b[K     |██▊                             | 1.1 MB 1.9 MB/s eta 0:00:07\r",
      "\u001b[K     |██▊                             | 1.2 MB 1.9 MB/s eta 0:00:07\r",
      "\u001b[K     |██▊                             | 1.2 MB 1.9 MB/s eta 0:00:07\r",
      "\u001b[K     |██▊                             | 1.2 MB 1.9 MB/s eta 0:00:07\r",
      "\u001b[K     |██▉                             | 1.2 MB 1.9 MB/s eta 0:00:07\r",
      "\u001b[K     |██▉                             | 1.2 MB 1.9 MB/s eta 0:00:07\r",
      "\u001b[K     |██▉                             | 1.2 MB 1.9 MB/s eta 0:00:07\r",
      "\u001b[K     |██▉                             | 1.2 MB 1.9 MB/s eta 0:00:07\r",
      "\u001b[K     |██▉                             | 1.2 MB 1.9 MB/s eta 0:00:07\r",
      "\u001b[K     |███                             | 1.2 MB 1.9 MB/s eta 0:00:07\r",
      "\u001b[K     |███                             | 1.2 MB 1.9 MB/s eta 0:00:07\r",
      "\u001b[K     |███                             | 1.3 MB 1.9 MB/s eta 0:00:07\r",
      "\u001b[K     |███                             | 1.3 MB 1.9 MB/s eta 0:00:07\r",
      "\u001b[K     |███                             | 1.3 MB 1.9 MB/s eta 0:00:07\r",
      "\u001b[K     |███                             | 1.3 MB 1.9 MB/s eta 0:00:07\r",
      "\u001b[K     |███                             | 1.3 MB 1.9 MB/s eta 0:00:07\r",
      "\u001b[K     |███                             | 1.3 MB 1.9 MB/s eta 0:00:07\r",
      "\u001b[K     |███                             | 1.3 MB 1.9 MB/s eta 0:00:07\r",
      "\u001b[K     |███▏                            | 1.3 MB 1.9 MB/s eta 0:00:07"
     ]
    },
    {
     "name": "stdout",
     "output_type": "stream",
     "text": [
      "\r",
      "\u001b[K     |███▏                            | 1.3 MB 1.9 MB/s eta 0:00:07\r",
      "\u001b[K     |███▏                            | 1.4 MB 1.9 MB/s eta 0:00:07\r",
      "\u001b[K     |███▏                            | 1.4 MB 1.9 MB/s eta 0:00:07\r",
      "\u001b[K     |███▎                            | 1.4 MB 1.9 MB/s eta 0:00:07\r",
      "\u001b[K     |███▎                            | 1.4 MB 1.9 MB/s eta 0:00:07\r",
      "\u001b[K     |███▎                            | 1.4 MB 1.9 MB/s eta 0:00:07\r",
      "\u001b[K     |███▎                            | 1.4 MB 1.9 MB/s eta 0:00:07\r",
      "\u001b[K     |███▎                            | 1.4 MB 1.9 MB/s eta 0:00:07\r",
      "\u001b[K     |███▍                            | 1.4 MB 1.9 MB/s eta 0:00:07\r",
      "\u001b[K     |███▍                            | 1.4 MB 1.9 MB/s eta 0:00:07\r",
      "\u001b[K     |███▍                            | 1.4 MB 1.9 MB/s eta 0:00:07\r",
      "\u001b[K     |███▍                            | 1.5 MB 1.9 MB/s eta 0:00:07\r",
      "\u001b[K     |███▍                            | 1.5 MB 1.9 MB/s eta 0:00:07\r",
      "\u001b[K     |███▌                            | 1.5 MB 1.9 MB/s eta 0:00:07\r",
      "\u001b[K     |███▌                            | 1.5 MB 1.9 MB/s eta 0:00:07\r",
      "\u001b[K     |███▌                            | 1.5 MB 1.9 MB/s eta 0:00:07\r",
      "\u001b[K     |███▌                            | 1.5 MB 1.9 MB/s eta 0:00:07\r",
      "\u001b[K     |███▋                            | 1.5 MB 1.9 MB/s eta 0:00:07\r",
      "\u001b[K     |███▋                            | 1.5 MB 1.9 MB/s eta 0:00:07\r",
      "\u001b[K     |███▋                            | 1.5 MB 1.9 MB/s eta 0:00:07\r",
      "\u001b[K     |███▋                            | 1.5 MB 1.9 MB/s eta 0:00:07\r",
      "\u001b[K     |███▋                            | 1.6 MB 1.9 MB/s eta 0:00:07\r",
      "\u001b[K     |███▊                            | 1.6 MB 1.9 MB/s eta 0:00:07\r",
      "\u001b[K     |███▊                            | 1.6 MB 1.9 MB/s eta 0:00:07\r",
      "\u001b[K     |███▊                            | 1.6 MB 1.9 MB/s eta 0:00:07\r",
      "\u001b[K     |███▊                            | 1.6 MB 1.9 MB/s eta 0:00:07\r",
      "\u001b[K     |███▊                            | 1.6 MB 1.9 MB/s eta 0:00:07\r",
      "\u001b[K     |███▉                            | 1.6 MB 1.9 MB/s eta 0:00:07\r",
      "\u001b[K     |███▉                            | 1.6 MB 1.9 MB/s eta 0:00:07\r",
      "\u001b[K     |███▉                            | 1.6 MB 1.9 MB/s eta 0:00:07\r",
      "\u001b[K     |███▉                            | 1.6 MB 1.9 MB/s eta 0:00:07\r",
      "\u001b[K     |████                            | 1.7 MB 1.9 MB/s eta 0:00:07\r",
      "\u001b[K     |████                            | 1.7 MB 1.9 MB/s eta 0:00:07\r",
      "\u001b[K     |████                            | 1.7 MB 1.9 MB/s eta 0:00:07\r",
      "\u001b[K     |████                            | 1.7 MB 1.9 MB/s eta 0:00:07\r",
      "\u001b[K     |████                            | 1.7 MB 1.9 MB/s eta 0:00:07\r",
      "\u001b[K     |████                            | 1.7 MB 1.9 MB/s eta 0:00:07\r",
      "\u001b[K     |████                            | 1.7 MB 1.9 MB/s eta 0:00:07\r",
      "\u001b[K     |████                            | 1.7 MB 1.9 MB/s eta 0:00:07\r",
      "\u001b[K     |████                            | 1.7 MB 1.9 MB/s eta 0:00:07\r",
      "\u001b[K     |████▏                           | 1.8 MB 1.9 MB/s eta 0:00:07\r",
      "\u001b[K     |████▏                           | 1.8 MB 1.9 MB/s eta 0:00:07\r",
      "\u001b[K     |████▏                           | 1.8 MB 1.9 MB/s eta 0:00:07\r",
      "\u001b[K     |████▏                           | 1.8 MB 1.9 MB/s eta 0:00:07\r",
      "\u001b[K     |████▏                           | 1.8 MB 1.9 MB/s eta 0:00:07\r",
      "\u001b[K     |████▎                           | 1.8 MB 1.9 MB/s eta 0:00:07\r",
      "\u001b[K     |████▎                           | 1.8 MB 1.9 MB/s eta 0:00:07\r",
      "\u001b[K     |████▎                           | 1.8 MB 1.9 MB/s eta 0:00:07\r",
      "\u001b[K     |████▎                           | 1.8 MB 1.9 MB/s eta 0:00:07\r",
      "\u001b[K     |████▎                           | 1.8 MB 1.9 MB/s eta 0:00:07\r",
      "\u001b[K     |████▍                           | 1.9 MB 1.9 MB/s eta 0:00:07\r",
      "\u001b[K     |████▍                           | 1.9 MB 1.9 MB/s eta 0:00:07\r",
      "\u001b[K     |████▍                           | 1.9 MB 1.9 MB/s eta 0:00:07"
     ]
    },
    {
     "name": "stdout",
     "output_type": "stream",
     "text": [
      "\r",
      "\u001b[K     |████▍                           | 1.9 MB 1.9 MB/s eta 0:00:07\r",
      "\u001b[K     |████▌                           | 1.9 MB 1.9 MB/s eta 0:00:07\r",
      "\u001b[K     |████▌                           | 1.9 MB 1.9 MB/s eta 0:00:07\r",
      "\u001b[K     |████▌                           | 1.9 MB 1.9 MB/s eta 0:00:07\r",
      "\u001b[K     |████▌                           | 1.9 MB 1.9 MB/s eta 0:00:07\r",
      "\u001b[K     |████▌                           | 1.9 MB 1.9 MB/s eta 0:00:07\r",
      "\u001b[K     |████▋                           | 1.9 MB 1.9 MB/s eta 0:00:07\r",
      "\u001b[K     |████▋                           | 2.0 MB 1.9 MB/s eta 0:00:07\r",
      "\u001b[K     |████▋                           | 2.0 MB 1.9 MB/s eta 0:00:07\r",
      "\u001b[K     |████▋                           | 2.0 MB 1.9 MB/s eta 0:00:06\r",
      "\u001b[K     |████▋                           | 2.0 MB 1.9 MB/s eta 0:00:06\r",
      "\u001b[K     |████▊                           | 2.0 MB 1.9 MB/s eta 0:00:06\r",
      "\u001b[K     |████▊                           | 2.0 MB 1.9 MB/s eta 0:00:06\r",
      "\u001b[K     |████▊                           | 2.0 MB 1.9 MB/s eta 0:00:06\r",
      "\u001b[K     |████▊                           | 2.0 MB 1.9 MB/s eta 0:00:06\r",
      "\u001b[K     |████▉                           | 2.0 MB 1.9 MB/s eta 0:00:06\r",
      "\u001b[K     |████▉                           | 2.0 MB 1.9 MB/s eta 0:00:06\r",
      "\u001b[K     |████▉                           | 2.1 MB 1.9 MB/s eta 0:00:06\r",
      "\u001b[K     |████▉                           | 2.1 MB 1.9 MB/s eta 0:00:06\r",
      "\u001b[K     |████▉                           | 2.1 MB 1.9 MB/s eta 0:00:06\r",
      "\u001b[K     |█████                           | 2.1 MB 1.9 MB/s eta 0:00:06\r",
      "\u001b[K     |█████                           | 2.1 MB 1.9 MB/s eta 0:00:06\r",
      "\u001b[K     |█████                           | 2.1 MB 1.9 MB/s eta 0:00:06\r",
      "\u001b[K     |█████                           | 2.1 MB 1.9 MB/s eta 0:00:06\r",
      "\u001b[K     |█████                           | 2.1 MB 1.9 MB/s eta 0:00:06\r",
      "\u001b[K     |█████                           | 2.1 MB 1.9 MB/s eta 0:00:06\r",
      "\u001b[K     |█████                           | 2.2 MB 1.9 MB/s eta 0:00:06\r",
      "\u001b[K     |█████                           | 2.2 MB 1.9 MB/s eta 0:00:06\r",
      "\u001b[K     |█████                           | 2.2 MB 1.9 MB/s eta 0:00:06\r",
      "\u001b[K     |█████▏                          | 2.2 MB 1.9 MB/s eta 0:00:06\r",
      "\u001b[K     |█████▏                          | 2.2 MB 1.9 MB/s eta 0:00:06\r",
      "\u001b[K     |█████▏                          | 2.2 MB 1.9 MB/s eta 0:00:06\r",
      "\u001b[K     |█████▏                          | 2.2 MB 1.9 MB/s eta 0:00:06\r",
      "\u001b[K     |█████▏                          | 2.2 MB 1.9 MB/s eta 0:00:06\r",
      "\u001b[K     |█████▎                          | 2.2 MB 1.9 MB/s eta 0:00:06\r",
      "\u001b[K     |█████▎                          | 2.2 MB 1.9 MB/s eta 0:00:06\r",
      "\u001b[K     |█████▎                          | 2.3 MB 1.9 MB/s eta 0:00:06\r",
      "\u001b[K     |█████▎                          | 2.3 MB 1.9 MB/s eta 0:00:06\r",
      "\u001b[K     |█████▍                          | 2.3 MB 1.9 MB/s eta 0:00:06\r",
      "\u001b[K     |█████▍                          | 2.3 MB 1.9 MB/s eta 0:00:06\r",
      "\u001b[K     |█████▍                          | 2.3 MB 1.9 MB/s eta 0:00:06\r",
      "\u001b[K     |█████▍                          | 2.3 MB 1.9 MB/s eta 0:00:06\r",
      "\u001b[K     |█████▍                          | 2.3 MB 1.9 MB/s eta 0:00:06\r",
      "\u001b[K     |█████▌                          | 2.3 MB 1.9 MB/s eta 0:00:06\r",
      "\u001b[K     |█████▌                          | 2.3 MB 1.9 MB/s eta 0:00:06\r",
      "\u001b[K     |█████▌                          | 2.3 MB 1.9 MB/s eta 0:00:06\r",
      "\u001b[K     |█████▌                          | 2.4 MB 1.9 MB/s eta 0:00:06\r",
      "\u001b[K     |█████▋                          | 2.4 MB 1.9 MB/s eta 0:00:06\r",
      "\u001b[K     |█████▋                          | 2.4 MB 1.9 MB/s eta 0:00:06\r",
      "\u001b[K     |█████▋                          | 2.4 MB 1.9 MB/s eta 0:00:06\r",
      "\u001b[K     |█████▋                          | 2.4 MB 1.9 MB/s eta 0:00:06\r",
      "\u001b[K     |█████▋                          | 2.4 MB 1.9 MB/s eta 0:00:06\r",
      "\u001b[K     |█████▊                          | 2.4 MB 1.9 MB/s eta 0:00:06\r",
      "\u001b[K     |█████▊                          | 2.4 MB 1.9 MB/s eta 0:00:06\r",
      "\u001b[K     |█████▊                          | 2.4 MB 1.9 MB/s eta 0:00:06\r",
      "\u001b[K     |█████▊                          | 2.4 MB 1.9 MB/s eta 0:00:06\r",
      "\u001b[K     |█████▊                          | 2.5 MB 1.9 MB/s eta 0:00:06\r",
      "\u001b[K     |█████▉                          | 2.5 MB 1.9 MB/s eta 0:00:06"
     ]
    },
    {
     "name": "stdout",
     "output_type": "stream",
     "text": [
      "\r",
      "\u001b[K     |█████▉                          | 2.5 MB 1.9 MB/s eta 0:00:06\r",
      "\u001b[K     |█████▉                          | 2.5 MB 1.9 MB/s eta 0:00:06\r",
      "\u001b[K     |█████▉                          | 2.5 MB 1.9 MB/s eta 0:00:06\r",
      "\u001b[K     |██████                          | 2.5 MB 1.9 MB/s eta 0:00:06\r",
      "\u001b[K     |██████                          | 2.5 MB 1.9 MB/s eta 0:00:06\r",
      "\u001b[K     |██████                          | 2.5 MB 1.9 MB/s eta 0:00:06\r",
      "\u001b[K     |██████                          | 2.5 MB 1.9 MB/s eta 0:00:06\r",
      "\u001b[K     |██████                          | 2.5 MB 1.9 MB/s eta 0:00:06\r",
      "\u001b[K     |██████                          | 2.6 MB 1.9 MB/s eta 0:00:06\r",
      "\u001b[K     |██████                          | 2.6 MB 1.9 MB/s eta 0:00:06\r",
      "\u001b[K     |██████                          | 2.6 MB 1.9 MB/s eta 0:00:06\r",
      "\u001b[K     |██████                          | 2.6 MB 1.9 MB/s eta 0:00:06\r",
      "\u001b[K     |██████                          | 2.6 MB 1.9 MB/s eta 0:00:06\r",
      "\u001b[K     |██████▏                         | 2.6 MB 1.9 MB/s eta 0:00:06\r",
      "\u001b[K     |██████▏                         | 2.6 MB 1.9 MB/s eta 0:00:06\r",
      "\u001b[K     |██████▏                         | 2.6 MB 1.9 MB/s eta 0:00:06\r",
      "\u001b[K     |██████▏                         | 2.6 MB 1.9 MB/s eta 0:00:06\r",
      "\u001b[K     |██████▎                         | 2.7 MB 1.9 MB/s eta 0:00:06\r",
      "\u001b[K     |██████▎                         | 2.7 MB 1.9 MB/s eta 0:00:06\r",
      "\u001b[K     |██████▎                         | 2.7 MB 1.9 MB/s eta 0:00:06\r",
      "\u001b[K     |██████▎                         | 2.7 MB 1.9 MB/s eta 0:00:06\r",
      "\u001b[K     |██████▎                         | 2.7 MB 1.9 MB/s eta 0:00:06\r",
      "\u001b[K     |██████▍                         | 2.7 MB 1.9 MB/s eta 0:00:06\r",
      "\u001b[K     |██████▍                         | 2.7 MB 1.9 MB/s eta 0:00:06\r",
      "\u001b[K     |██████▍                         | 2.7 MB 1.9 MB/s eta 0:00:06\r",
      "\u001b[K     |██████▍                         | 2.7 MB 1.9 MB/s eta 0:00:06\r",
      "\u001b[K     |██████▌                         | 2.7 MB 1.9 MB/s eta 0:00:06\r",
      "\u001b[K     |██████▌                         | 2.8 MB 1.9 MB/s eta 0:00:06\r",
      "\u001b[K     |██████▌                         | 2.8 MB 1.9 MB/s eta 0:00:06\r",
      "\u001b[K     |██████▌                         | 2.8 MB 1.9 MB/s eta 0:00:06\r",
      "\u001b[K     |██████▌                         | 2.8 MB 1.9 MB/s eta 0:00:06\r",
      "\u001b[K     |██████▋                         | 2.8 MB 1.9 MB/s eta 0:00:06\r",
      "\u001b[K     |██████▋                         | 2.8 MB 1.9 MB/s eta 0:00:06\r",
      "\u001b[K     |██████▋                         | 2.8 MB 1.9 MB/s eta 0:00:06\r",
      "\u001b[K     |██████▋                         | 2.8 MB 1.9 MB/s eta 0:00:06\r",
      "\u001b[K     |██████▋                         | 2.8 MB 1.9 MB/s eta 0:00:06\r",
      "\u001b[K     |██████▊                         | 2.8 MB 1.9 MB/s eta 0:00:06\r",
      "\u001b[K     |██████▊                         | 2.9 MB 1.9 MB/s eta 0:00:06\r",
      "\u001b[K     |██████▊                         | 2.9 MB 1.9 MB/s eta 0:00:06\r",
      "\u001b[K     |██████▊                         | 2.9 MB 1.9 MB/s eta 0:00:06"
     ]
    },
    {
     "name": "stdout",
     "output_type": "stream",
     "text": [
      "\r",
      "\u001b[K     |██████▉                         | 2.9 MB 1.9 MB/s eta 0:00:06\r",
      "\u001b[K     |██████▉                         | 2.9 MB 1.9 MB/s eta 0:00:06\r",
      "\u001b[K     |██████▉                         | 2.9 MB 1.9 MB/s eta 0:00:06\r",
      "\u001b[K     |██████▉                         | 2.9 MB 1.9 MB/s eta 0:00:06\r",
      "\u001b[K     |██████▉                         | 2.9 MB 1.9 MB/s eta 0:00:06\r",
      "\u001b[K     |███████                         | 2.9 MB 1.9 MB/s eta 0:00:06\r",
      "\u001b[K     |███████                         | 2.9 MB 1.9 MB/s eta 0:00:06\r",
      "\u001b[K     |███████                         | 3.0 MB 1.9 MB/s eta 0:00:06\r",
      "\u001b[K     |███████                         | 3.0 MB 1.9 MB/s eta 0:00:06\r",
      "\u001b[K     |███████                         | 3.0 MB 1.9 MB/s eta 0:00:06\r",
      "\u001b[K     |███████                         | 3.0 MB 1.9 MB/s eta 0:00:06\r",
      "\u001b[K     |███████                         | 3.0 MB 1.9 MB/s eta 0:00:06\r",
      "\u001b[K     |███████                         | 3.0 MB 1.9 MB/s eta 0:00:06\r",
      "\u001b[K     |███████                         | 3.0 MB 1.9 MB/s eta 0:00:06\r",
      "\u001b[K     |███████▏                        | 3.0 MB 1.9 MB/s eta 0:00:06\r",
      "\u001b[K     |███████▏                        | 3.0 MB 1.9 MB/s eta 0:00:06\r",
      "\u001b[K     |███████▏                        | 3.1 MB 1.9 MB/s eta 0:00:06\r",
      "\u001b[K     |███████▏                        | 3.1 MB 1.9 MB/s eta 0:00:06\r",
      "\u001b[K     |███████▏                        | 3.1 MB 1.9 MB/s eta 0:00:06\r",
      "\u001b[K     |███████▎                        | 3.1 MB 1.9 MB/s eta 0:00:06\r",
      "\u001b[K     |███████▎                        | 3.1 MB 1.9 MB/s eta 0:00:06\r",
      "\u001b[K     |███████▎                        | 3.1 MB 1.9 MB/s eta 0:00:06\r",
      "\u001b[K     |███████▎                        | 3.1 MB 1.9 MB/s eta 0:00:06\r",
      "\u001b[K     |███████▍                        | 3.1 MB 1.9 MB/s eta 0:00:06\r",
      "\u001b[K     |███████▍                        | 3.1 MB 1.9 MB/s eta 0:00:06\r",
      "\u001b[K     |███████▍                        | 3.1 MB 1.9 MB/s eta 0:00:06\r",
      "\u001b[K     |███████▍                        | 3.2 MB 1.9 MB/s eta 0:00:06\r",
      "\u001b[K     |███████▍                        | 3.2 MB 1.9 MB/s eta 0:00:06\r",
      "\u001b[K     |███████▌                        | 3.2 MB 1.9 MB/s eta 0:00:06\r",
      "\u001b[K     |███████▌                        | 3.2 MB 1.9 MB/s eta 0:00:06\r",
      "\u001b[K     |███████▌                        | 3.2 MB 1.9 MB/s eta 0:00:06\r",
      "\u001b[K     |███████▌                        | 3.2 MB 1.9 MB/s eta 0:00:06\r",
      "\u001b[K     |███████▌                        | 3.2 MB 1.9 MB/s eta 0:00:06\r",
      "\u001b[K     |███████▋                        | 3.2 MB 1.9 MB/s eta 0:00:06\r",
      "\u001b[K     |███████▋                        | 3.2 MB 1.9 MB/s eta 0:00:06\r",
      "\u001b[K     |███████▋                        | 3.2 MB 1.9 MB/s eta 0:00:06\r",
      "\u001b[K     |███████▋                        | 3.3 MB 1.9 MB/s eta 0:00:06\r",
      "\u001b[K     |███████▊                        | 3.3 MB 1.9 MB/s eta 0:00:06\r",
      "\u001b[K     |███████▊                        | 3.3 MB 1.9 MB/s eta 0:00:06\r",
      "\u001b[K     |███████▊                        | 3.3 MB 1.9 MB/s eta 0:00:06\r",
      "\u001b[K     |███████▊                        | 3.3 MB 1.9 MB/s eta 0:00:06\r",
      "\u001b[K     |███████▊                        | 3.3 MB 1.9 MB/s eta 0:00:06\r",
      "\u001b[K     |███████▉                        | 3.3 MB 1.9 MB/s eta 0:00:06\r",
      "\u001b[K     |███████▉                        | 3.3 MB 1.9 MB/s eta 0:00:06\r",
      "\u001b[K     |███████▉                        | 3.3 MB 1.9 MB/s eta 0:00:06\r",
      "\u001b[K     |███████▉                        | 3.3 MB 1.9 MB/s eta 0:00:06\r",
      "\u001b[K     |████████                        | 3.4 MB 1.9 MB/s eta 0:00:06\r",
      "\u001b[K     |████████                        | 3.4 MB 1.9 MB/s eta 0:00:06\r",
      "\u001b[K     |████████                        | 3.4 MB 1.9 MB/s eta 0:00:06\r",
      "\u001b[K     |████████                        | 3.4 MB 1.9 MB/s eta 0:00:06\r",
      "\u001b[K     |████████                        | 3.4 MB 1.9 MB/s eta 0:00:06\r",
      "\u001b[K     |████████                        | 3.4 MB 1.9 MB/s eta 0:00:06"
     ]
    },
    {
     "name": "stdout",
     "output_type": "stream",
     "text": [
      "\r",
      "\u001b[K     |████████                        | 3.4 MB 1.9 MB/s eta 0:00:06\r",
      "\u001b[K     |████████                        | 3.4 MB 1.9 MB/s eta 0:00:06\r",
      "\u001b[K     |████████                        | 3.4 MB 1.9 MB/s eta 0:00:06\r",
      "\u001b[K     |████████                        | 3.5 MB 1.9 MB/s eta 0:00:06\r",
      "\u001b[K     |████████▏                       | 3.5 MB 1.9 MB/s eta 0:00:06\r",
      "\u001b[K     |████████▏                       | 3.5 MB 1.9 MB/s eta 0:00:06\r",
      "\u001b[K     |████████▏                       | 3.5 MB 1.9 MB/s eta 0:00:06\r",
      "\u001b[K     |████████▏                       | 3.5 MB 1.9 MB/s eta 0:00:06\r",
      "\u001b[K     |████████▎                       | 3.5 MB 1.9 MB/s eta 0:00:06\r",
      "\u001b[K     |████████▎                       | 3.5 MB 1.9 MB/s eta 0:00:06\r",
      "\u001b[K     |████████▎                       | 3.5 MB 1.9 MB/s eta 0:00:06\r",
      "\u001b[K     |████████▎                       | 3.5 MB 1.9 MB/s eta 0:00:06\r",
      "\u001b[K     |████████▎                       | 3.5 MB 1.9 MB/s eta 0:00:06\r",
      "\u001b[K     |████████▍                       | 3.6 MB 1.9 MB/s eta 0:00:06\r",
      "\u001b[K     |████████▍                       | 3.6 MB 1.9 MB/s eta 0:00:06\r",
      "\u001b[K     |████████▍                       | 3.6 MB 1.9 MB/s eta 0:00:06\r",
      "\u001b[K     |████████▍                       | 3.6 MB 1.9 MB/s eta 0:00:06\r",
      "\u001b[K     |████████▍                       | 3.6 MB 1.9 MB/s eta 0:00:06\r",
      "\u001b[K     |████████▌                       | 3.6 MB 1.9 MB/s eta 0:00:06\r",
      "\u001b[K     |████████▌                       | 3.6 MB 1.9 MB/s eta 0:00:06\r",
      "\u001b[K     |████████▌                       | 3.6 MB 1.9 MB/s eta 0:00:06\r",
      "\u001b[K     |████████▌                       | 3.6 MB 1.9 MB/s eta 0:00:06\r",
      "\u001b[K     |████████▋                       | 3.6 MB 1.9 MB/s eta 0:00:06\r",
      "\u001b[K     |████████▋                       | 3.7 MB 1.9 MB/s eta 0:00:06\r",
      "\u001b[K     |████████▋                       | 3.7 MB 1.9 MB/s eta 0:00:06\r",
      "\u001b[K     |████████▋                       | 3.7 MB 1.9 MB/s eta 0:00:06\r",
      "\u001b[K     |████████▋                       | 3.7 MB 1.9 MB/s eta 0:00:06\r",
      "\u001b[K     |████████▊                       | 3.7 MB 1.9 MB/s eta 0:00:06\r",
      "\u001b[K     |████████▊                       | 3.7 MB 1.9 MB/s eta 0:00:06\r",
      "\u001b[K     |████████▊                       | 3.7 MB 1.9 MB/s eta 0:00:06\r",
      "\u001b[K     |████████▊                       | 3.7 MB 1.9 MB/s eta 0:00:06\r",
      "\u001b[K     |████████▉                       | 3.7 MB 1.9 MB/s eta 0:00:06\r",
      "\u001b[K     |████████▉                       | 3.7 MB 1.9 MB/s eta 0:00:06\r",
      "\u001b[K     |████████▉                       | 3.8 MB 1.9 MB/s eta 0:00:06\r",
      "\u001b[K     |████████▉                       | 3.8 MB 1.9 MB/s eta 0:00:06\r",
      "\u001b[K     |████████▉                       | 3.8 MB 1.9 MB/s eta 0:00:06\r",
      "\u001b[K     |█████████                       | 3.8 MB 1.9 MB/s eta 0:00:06\r",
      "\u001b[K     |█████████                       | 3.8 MB 1.9 MB/s eta 0:00:06\r",
      "\u001b[K     |█████████                       | 3.8 MB 1.9 MB/s eta 0:00:06\r",
      "\u001b[K     |█████████                       | 3.8 MB 1.9 MB/s eta 0:00:06\r",
      "\u001b[K     |█████████                       | 3.8 MB 1.9 MB/s eta 0:00:06\r",
      "\u001b[K     |█████████                       | 3.8 MB 1.9 MB/s eta 0:00:06\r",
      "\u001b[K     |█████████                       | 3.9 MB 1.9 MB/s eta 0:00:06\r",
      "\u001b[K     |█████████                       | 3.9 MB 1.9 MB/s eta 0:00:06\r",
      "\u001b[K     |█████████                       | 3.9 MB 1.9 MB/s eta 0:00:06\r",
      "\u001b[K     |█████████▏                      | 3.9 MB 1.9 MB/s eta 0:00:06\r",
      "\u001b[K     |█████████▏                      | 3.9 MB 1.9 MB/s eta 0:00:06\r",
      "\u001b[K     |█████████▏                      | 3.9 MB 1.9 MB/s eta 0:00:06\r",
      "\u001b[K     |█████████▏                      | 3.9 MB 1.9 MB/s eta 0:00:05\r",
      "\u001b[K     |█████████▏                      | 3.9 MB 1.9 MB/s eta 0:00:05\r",
      "\u001b[K     |█████████▎                      | 3.9 MB 1.9 MB/s eta 0:00:05\r",
      "\u001b[K     |█████████▎                      | 3.9 MB 1.9 MB/s eta 0:00:05"
     ]
    },
    {
     "name": "stdout",
     "output_type": "stream",
     "text": [
      "\r",
      "\u001b[K     |█████████▎                      | 4.0 MB 1.9 MB/s eta 0:00:05\r",
      "\u001b[K     |█████████▎                      | 4.0 MB 1.9 MB/s eta 0:00:05\r",
      "\u001b[K     |█████████▎                      | 4.0 MB 1.9 MB/s eta 0:00:05\r",
      "\u001b[K     |█████████▍                      | 4.0 MB 1.9 MB/s eta 0:00:05\r",
      "\u001b[K     |█████████▍                      | 4.0 MB 1.9 MB/s eta 0:00:05\r",
      "\u001b[K     |█████████▍                      | 4.0 MB 1.9 MB/s eta 0:00:05\r",
      "\u001b[K     |█████████▍                      | 4.0 MB 1.9 MB/s eta 0:00:05\r",
      "\u001b[K     |█████████▌                      | 4.0 MB 1.9 MB/s eta 0:00:05\r",
      "\u001b[K     |█████████▌                      | 4.0 MB 1.9 MB/s eta 0:00:05\r",
      "\u001b[K     |█████████▌                      | 4.0 MB 1.9 MB/s eta 0:00:05\r",
      "\u001b[K     |█████████▌                      | 4.1 MB 1.9 MB/s eta 0:00:05\r",
      "\u001b[K     |█████████▌                      | 4.1 MB 1.9 MB/s eta 0:00:05\r",
      "\u001b[K     |█████████▋                      | 4.1 MB 1.9 MB/s eta 0:00:05\r",
      "\u001b[K     |█████████▋                      | 4.1 MB 1.9 MB/s eta 0:00:05\r",
      "\u001b[K     |█████████▋                      | 4.1 MB 1.9 MB/s eta 0:00:05\r",
      "\u001b[K     |█████████▋                      | 4.1 MB 1.9 MB/s eta 0:00:05\r",
      "\u001b[K     |█████████▊                      | 4.1 MB 1.9 MB/s eta 0:00:05\r",
      "\u001b[K     |█████████▊                      | 4.1 MB 1.9 MB/s eta 0:00:05\r",
      "\u001b[K     |█████████▊                      | 4.1 MB 1.9 MB/s eta 0:00:05\r",
      "\u001b[K     |█████████▊                      | 4.1 MB 1.9 MB/s eta 0:00:05\r",
      "\u001b[K     |█████████▊                      | 4.2 MB 1.9 MB/s eta 0:00:05\r",
      "\u001b[K     |█████████▉                      | 4.2 MB 1.9 MB/s eta 0:00:05\r",
      "\u001b[K     |█████████▉                      | 4.2 MB 1.9 MB/s eta 0:00:05\r",
      "\u001b[K     |█████████▉                      | 4.2 MB 1.9 MB/s eta 0:00:05\r",
      "\u001b[K     |█████████▉                      | 4.2 MB 1.9 MB/s eta 0:00:05\r",
      "\u001b[K     |█████████▉                      | 4.2 MB 1.9 MB/s eta 0:00:05\r",
      "\u001b[K     |██████████                      | 4.2 MB 1.9 MB/s eta 0:00:05\r",
      "\u001b[K     |██████████                      | 4.2 MB 1.9 MB/s eta 0:00:05\r",
      "\u001b[K     |██████████                      | 4.2 MB 1.9 MB/s eta 0:00:05\r",
      "\u001b[K     |██████████                      | 4.2 MB 1.9 MB/s eta 0:00:05\r",
      "\u001b[K     |██████████                      | 4.3 MB 1.9 MB/s eta 0:00:05\r",
      "\u001b[K     |██████████                      | 4.3 MB 1.9 MB/s eta 0:00:05\r",
      "\u001b[K     |██████████                      | 4.3 MB 1.9 MB/s eta 0:00:05\r",
      "\u001b[K     |██████████                      | 4.3 MB 1.9 MB/s eta 0:00:05\r",
      "\u001b[K     |██████████                      | 4.3 MB 1.9 MB/s eta 0:00:05\r",
      "\u001b[K     |██████████▏                     | 4.3 MB 1.9 MB/s eta 0:00:05\r",
      "\u001b[K     |██████████▏                     | 4.3 MB 1.9 MB/s eta 0:00:05\r",
      "\u001b[K     |██████████▏                     | 4.3 MB 1.9 MB/s eta 0:00:05\r",
      "\u001b[K     |██████████▏                     | 4.3 MB 1.9 MB/s eta 0:00:05\r",
      "\u001b[K     |██████████▎                     | 4.4 MB 1.9 MB/s eta 0:00:05\r",
      "\u001b[K     |██████████▎                     | 4.4 MB 1.9 MB/s eta 0:00:05\r",
      "\u001b[K     |██████████▎                     | 4.4 MB 1.9 MB/s eta 0:00:05\r",
      "\u001b[K     |██████████▎                     | 4.4 MB 1.9 MB/s eta 0:00:05\r",
      "\u001b[K     |██████████▎                     | 4.4 MB 1.9 MB/s eta 0:00:05\r",
      "\u001b[K     |██████████▍                     | 4.4 MB 1.9 MB/s eta 0:00:05\r",
      "\u001b[K     |██████████▍                     | 4.4 MB 1.9 MB/s eta 0:00:05\r",
      "\u001b[K     |██████████▍                     | 4.4 MB 1.9 MB/s eta 0:00:05\r",
      "\u001b[K     |██████████▍                     | 4.4 MB 1.9 MB/s eta 0:00:05\r",
      "\u001b[K     |██████████▍                     | 4.4 MB 1.9 MB/s eta 0:00:05\r",
      "\u001b[K     |██████████▌                     | 4.5 MB 1.9 MB/s eta 0:00:05\r",
      "\u001b[K     |██████████▌                     | 4.5 MB 1.9 MB/s eta 0:00:05\r",
      "\u001b[K     |██████████▌                     | 4.5 MB 1.9 MB/s eta 0:00:05\r",
      "\u001b[K     |██████████▌                     | 4.5 MB 1.9 MB/s eta 0:00:05\r",
      "\u001b[K     |██████████▋                     | 4.5 MB 1.9 MB/s eta 0:00:05\r",
      "\u001b[K     |██████████▋                     | 4.5 MB 1.9 MB/s eta 0:00:05\r",
      "\u001b[K     |██████████▋                     | 4.5 MB 1.9 MB/s eta 0:00:05\r",
      "\u001b[K     |██████████▋                     | 4.5 MB 1.9 MB/s eta 0:00:05\r",
      "\u001b[K     |██████████▋                     | 4.5 MB 1.9 MB/s eta 0:00:05\r",
      "\u001b[K     |██████████▊                     | 4.5 MB 1.9 MB/s eta 0:00:05\r",
      "\u001b[K     |██████████▊                     | 4.6 MB 1.9 MB/s eta 0:00:05\r",
      "\u001b[K     |██████████▊                     | 4.6 MB 1.9 MB/s eta 0:00:05\r",
      "\u001b[K     |██████████▊                     | 4.6 MB 1.9 MB/s eta 0:00:05\r",
      "\u001b[K     |██████████▊                     | 4.6 MB 1.9 MB/s eta 0:00:05"
     ]
    },
    {
     "name": "stdout",
     "output_type": "stream",
     "text": [
      "\r",
      "\u001b[K     |██████████▉                     | 4.6 MB 1.9 MB/s eta 0:00:05\r",
      "\u001b[K     |██████████▉                     | 4.6 MB 1.9 MB/s eta 0:00:05\r",
      "\u001b[K     |██████████▉                     | 4.6 MB 1.9 MB/s eta 0:00:05\r",
      "\u001b[K     |██████████▉                     | 4.6 MB 1.9 MB/s eta 0:00:05\r",
      "\u001b[K     |███████████                     | 4.6 MB 1.9 MB/s eta 0:00:05\r",
      "\u001b[K     |███████████                     | 4.6 MB 1.9 MB/s eta 0:00:05\r",
      "\u001b[K     |███████████                     | 4.7 MB 1.9 MB/s eta 0:00:05\r",
      "\u001b[K     |███████████                     | 4.7 MB 1.9 MB/s eta 0:00:05\r",
      "\u001b[K     |███████████                     | 4.7 MB 1.9 MB/s eta 0:00:05\r",
      "\u001b[K     |███████████                     | 4.7 MB 1.9 MB/s eta 0:00:05\r",
      "\u001b[K     |███████████                     | 4.7 MB 1.9 MB/s eta 0:00:05\r",
      "\u001b[K     |███████████                     | 4.7 MB 1.9 MB/s eta 0:00:05\r",
      "\u001b[K     |███████████                     | 4.7 MB 1.9 MB/s eta 0:00:05\r",
      "\u001b[K     |███████████▏                    | 4.7 MB 1.9 MB/s eta 0:00:05\r",
      "\u001b[K     |███████████▏                    | 4.7 MB 1.9 MB/s eta 0:00:05\r",
      "\u001b[K     |███████████▏                    | 4.8 MB 1.9 MB/s eta 0:00:05\r",
      "\u001b[K     |███████████▏                    | 4.8 MB 1.9 MB/s eta 0:00:05\r",
      "\u001b[K     |███████████▏                    | 4.8 MB 1.9 MB/s eta 0:00:05\r",
      "\u001b[K     |███████████▎                    | 4.8 MB 1.9 MB/s eta 0:00:05\r",
      "\u001b[K     |███████████▎                    | 4.8 MB 1.9 MB/s eta 0:00:05\r",
      "\u001b[K     |███████████▎                    | 4.8 MB 1.9 MB/s eta 0:00:05\r",
      "\u001b[K     |███████████▎                    | 4.8 MB 1.9 MB/s eta 0:00:05\r",
      "\u001b[K     |███████████▎                    | 4.8 MB 1.9 MB/s eta 0:00:05\r",
      "\u001b[K     |███████████▍                    | 4.8 MB 1.9 MB/s eta 0:00:05\r",
      "\u001b[K     |███████████▍                    | 4.8 MB 1.9 MB/s eta 0:00:05\r",
      "\u001b[K     |███████████▍                    | 4.9 MB 1.9 MB/s eta 0:00:05\r",
      "\u001b[K     |███████████▍                    | 4.9 MB 1.9 MB/s eta 0:00:05\r",
      "\u001b[K     |███████████▌                    | 4.9 MB 1.9 MB/s eta 0:00:05\r",
      "\u001b[K     |███████████▌                    | 4.9 MB 1.9 MB/s eta 0:00:05\r",
      "\u001b[K     |███████████▌                    | 4.9 MB 1.9 MB/s eta 0:00:05\r",
      "\u001b[K     |███████████▌                    | 4.9 MB 1.9 MB/s eta 0:00:05\r",
      "\u001b[K     |███████████▌                    | 4.9 MB 1.9 MB/s eta 0:00:05\r",
      "\u001b[K     |███████████▋                    | 4.9 MB 1.9 MB/s eta 0:00:05\r",
      "\u001b[K     |███████████▋                    | 4.9 MB 1.9 MB/s eta 0:00:05\r",
      "\u001b[K     |███████████▋                    | 4.9 MB 1.9 MB/s eta 0:00:05\r",
      "\u001b[K     |███████████▋                    | 5.0 MB 1.9 MB/s eta 0:00:05\r",
      "\u001b[K     |███████████▋                    | 5.0 MB 1.9 MB/s eta 0:00:05\r",
      "\u001b[K     |███████████▊                    | 5.0 MB 1.9 MB/s eta 0:00:05\r",
      "\u001b[K     |███████████▊                    | 5.0 MB 1.9 MB/s eta 0:00:05\r",
      "\u001b[K     |███████████▊                    | 5.0 MB 1.9 MB/s eta 0:00:05\r",
      "\u001b[K     |███████████▊                    | 5.0 MB 1.9 MB/s eta 0:00:05\r",
      "\u001b[K     |███████████▉                    | 5.0 MB 1.9 MB/s eta 0:00:05\r",
      "\u001b[K     |███████████▉                    | 5.0 MB 1.9 MB/s eta 0:00:05\r",
      "\u001b[K     |███████████▉                    | 5.0 MB 1.9 MB/s eta 0:00:05\r",
      "\u001b[K     |███████████▉                    | 5.0 MB 1.9 MB/s eta 0:00:05\r",
      "\u001b[K     |███████████▉                    | 5.1 MB 1.9 MB/s eta 0:00:05\r",
      "\u001b[K     |████████████                    | 5.1 MB 1.9 MB/s eta 0:00:05\r",
      "\u001b[K     |████████████                    | 5.1 MB 1.9 MB/s eta 0:00:05\r",
      "\u001b[K     |████████████                    | 5.1 MB 1.9 MB/s eta 0:00:05\r",
      "\u001b[K     |████████████                    | 5.1 MB 1.9 MB/s eta 0:00:05"
     ]
    },
    {
     "name": "stdout",
     "output_type": "stream",
     "text": [
      "\r",
      "\u001b[K     |████████████                    | 5.1 MB 1.9 MB/s eta 0:00:05\r",
      "\u001b[K     |████████████                    | 5.1 MB 1.9 MB/s eta 0:00:05\r",
      "\u001b[K     |████████████                    | 5.1 MB 1.9 MB/s eta 0:00:05\r",
      "\u001b[K     |████████████                    | 5.1 MB 1.9 MB/s eta 0:00:05\r",
      "\u001b[K     |████████████                    | 5.2 MB 1.9 MB/s eta 0:00:05\r",
      "\u001b[K     |████████████▏                   | 5.2 MB 1.9 MB/s eta 0:00:05\r",
      "\u001b[K     |████████████▏                   | 5.2 MB 1.9 MB/s eta 0:00:05\r",
      "\u001b[K     |████████████▏                   | 5.2 MB 1.9 MB/s eta 0:00:05\r",
      "\u001b[K     |████████████▏                   | 5.2 MB 1.9 MB/s eta 0:00:05\r",
      "\u001b[K     |████████████▏                   | 5.2 MB 1.9 MB/s eta 0:00:05\r",
      "\u001b[K     |████████████▎                   | 5.2 MB 1.9 MB/s eta 0:00:05\r",
      "\u001b[K     |████████████▎                   | 5.2 MB 1.9 MB/s eta 0:00:05\r",
      "\u001b[K     |████████████▎                   | 5.2 MB 1.9 MB/s eta 0:00:05\r",
      "\u001b[K     |████████████▎                   | 5.2 MB 1.9 MB/s eta 0:00:05\r",
      "\u001b[K     |████████████▍                   | 5.3 MB 1.9 MB/s eta 0:00:05\r",
      "\u001b[K     |████████████▍                   | 5.3 MB 1.9 MB/s eta 0:00:05\r",
      "\u001b[K     |████████████▍                   | 5.3 MB 1.9 MB/s eta 0:00:05\r",
      "\u001b[K     |████████████▍                   | 5.3 MB 1.9 MB/s eta 0:00:05\r",
      "\u001b[K     |████████████▍                   | 5.3 MB 1.9 MB/s eta 0:00:05\r",
      "\u001b[K     |████████████▌                   | 5.3 MB 1.9 MB/s eta 0:00:05\r",
      "\u001b[K     |████████████▌                   | 5.3 MB 1.9 MB/s eta 0:00:05\r",
      "\u001b[K     |████████████▌                   | 5.3 MB 1.9 MB/s eta 0:00:05\r",
      "\u001b[K     |████████████▌                   | 5.3 MB 1.9 MB/s eta 0:00:05\r",
      "\u001b[K     |████████████▋                   | 5.3 MB 1.9 MB/s eta 0:00:05\r",
      "\u001b[K     |████████████▋                   | 5.4 MB 1.9 MB/s eta 0:00:05\r",
      "\u001b[K     |████████████▋                   | 5.4 MB 1.9 MB/s eta 0:00:05\r",
      "\u001b[K     |████████████▋                   | 5.4 MB 1.9 MB/s eta 0:00:05\r",
      "\u001b[K     |████████████▋                   | 5.4 MB 1.9 MB/s eta 0:00:05\r",
      "\u001b[K     |████████████▊                   | 5.4 MB 1.9 MB/s eta 0:00:05\r",
      "\u001b[K     |████████████▊                   | 5.4 MB 1.9 MB/s eta 0:00:05\r",
      "\u001b[K     |████████████▊                   | 5.4 MB 1.9 MB/s eta 0:00:05\r",
      "\u001b[K     |████████████▊                   | 5.4 MB 1.9 MB/s eta 0:00:05\r",
      "\u001b[K     |████████████▊                   | 5.4 MB 1.9 MB/s eta 0:00:05\r",
      "\u001b[K     |████████████▉                   | 5.4 MB 1.9 MB/s eta 0:00:05\r",
      "\u001b[K     |████████████▉                   | 5.5 MB 1.9 MB/s eta 0:00:05\r",
      "\u001b[K     |████████████▉                   | 5.5 MB 1.9 MB/s eta 0:00:05\r",
      "\u001b[K     |████████████▉                   | 5.5 MB 1.9 MB/s eta 0:00:05\r",
      "\u001b[K     |█████████████                   | 5.5 MB 1.9 MB/s eta 0:00:05\r",
      "\u001b[K     |█████████████                   | 5.5 MB 1.9 MB/s eta 0:00:05\r",
      "\u001b[K     |█████████████                   | 5.5 MB 1.9 MB/s eta 0:00:05\r",
      "\u001b[K     |█████████████                   | 5.5 MB 1.9 MB/s eta 0:00:05\r",
      "\u001b[K     |█████████████                   | 5.5 MB 1.9 MB/s eta 0:00:05\r",
      "\u001b[K     |█████████████                   | 5.5 MB 1.9 MB/s eta 0:00:05\r",
      "\u001b[K     |█████████████                   | 5.6 MB 1.9 MB/s eta 0:00:05\r",
      "\u001b[K     |█████████████                   | 5.6 MB 1.9 MB/s eta 0:00:05\r",
      "\u001b[K     |█████████████                   | 5.6 MB 1.9 MB/s eta 0:00:05\r",
      "\u001b[K     |█████████████                   | 5.6 MB 1.9 MB/s eta 0:00:05\r",
      "\u001b[K     |█████████████▏                  | 5.6 MB 1.9 MB/s eta 0:00:05\r",
      "\u001b[K     |█████████████▏                  | 5.6 MB 1.9 MB/s eta 0:00:05\r",
      "\u001b[K     |█████████████▏                  | 5.6 MB 1.9 MB/s eta 0:00:05\r",
      "\u001b[K     |█████████████▏                  | 5.6 MB 1.9 MB/s eta 0:00:05\r",
      "\u001b[K     |█████████████▎                  | 5.6 MB 1.9 MB/s eta 0:00:05\r",
      "\u001b[K     |█████████████▎                  | 5.6 MB 1.9 MB/s eta 0:00:05\r",
      "\u001b[K     |█████████████▎                  | 5.7 MB 1.9 MB/s eta 0:00:05\r",
      "\u001b[K     |█████████████▎                  | 5.7 MB 1.9 MB/s eta 0:00:05\r",
      "\u001b[K     |█████████████▎                  | 5.7 MB 1.9 MB/s eta 0:00:05\r",
      "\u001b[K     |█████████████▍                  | 5.7 MB 1.9 MB/s eta 0:00:05\r",
      "\u001b[K     |█████████████▍                  | 5.7 MB 1.9 MB/s eta 0:00:05\r",
      "\u001b[K     |█████████████▍                  | 5.7 MB 1.9 MB/s eta 0:00:05\r",
      "\u001b[K     |█████████████▍                  | 5.7 MB 1.9 MB/s eta 0:00:05\r",
      "\u001b[K     |█████████████▌                  | 5.7 MB 1.9 MB/s eta 0:00:05\r",
      "\u001b[K     |█████████████▌                  | 5.7 MB 1.9 MB/s eta 0:00:05\r",
      "\u001b[K     |█████████████▌                  | 5.7 MB 1.9 MB/s eta 0:00:05\r",
      "\u001b[K     |█████████████▌                  | 5.8 MB 1.9 MB/s eta 0:00:05\r",
      "\u001b[K     |█████████████▌                  | 5.8 MB 1.9 MB/s eta 0:00:05\r",
      "\u001b[K     |█████████████▋                  | 5.8 MB 1.9 MB/s eta 0:00:05\r",
      "\u001b[K     |█████████████▋                  | 5.8 MB 1.9 MB/s eta 0:00:05\r",
      "\u001b[K     |█████████████▋                  | 5.8 MB 1.9 MB/s eta 0:00:05"
     ]
    },
    {
     "name": "stdout",
     "output_type": "stream",
     "text": [
      "\r",
      "\u001b[K     |█████████████▋                  | 5.8 MB 1.9 MB/s eta 0:00:05\r",
      "\u001b[K     |█████████████▋                  | 5.8 MB 1.9 MB/s eta 0:00:05\r",
      "\u001b[K     |█████████████▊                  | 5.8 MB 1.9 MB/s eta 0:00:05\r",
      "\u001b[K     |█████████████▊                  | 5.8 MB 1.9 MB/s eta 0:00:05\r",
      "\u001b[K     |█████████████▊                  | 5.8 MB 1.9 MB/s eta 0:00:05\r",
      "\u001b[K     |█████████████▊                  | 5.9 MB 1.9 MB/s eta 0:00:04\r",
      "\u001b[K     |█████████████▉                  | 5.9 MB 1.9 MB/s eta 0:00:04\r",
      "\u001b[K     |█████████████▉                  | 5.9 MB 1.9 MB/s eta 0:00:04\r",
      "\u001b[K     |█████████████▉                  | 5.9 MB 1.9 MB/s eta 0:00:04\r",
      "\u001b[K     |█████████████▉                  | 5.9 MB 1.9 MB/s eta 0:00:04\r",
      "\u001b[K     |█████████████▉                  | 5.9 MB 1.9 MB/s eta 0:00:04\r",
      "\u001b[K     |██████████████                  | 5.9 MB 1.9 MB/s eta 0:00:04\r",
      "\u001b[K     |██████████████                  | 5.9 MB 1.9 MB/s eta 0:00:04\r",
      "\u001b[K     |██████████████                  | 5.9 MB 1.9 MB/s eta 0:00:04\r",
      "\u001b[K     |██████████████                  | 5.9 MB 1.9 MB/s eta 0:00:04\r",
      "\u001b[K     |██████████████                  | 6.0 MB 1.9 MB/s eta 0:00:04\r",
      "\u001b[K     |██████████████                  | 6.0 MB 1.9 MB/s eta 0:00:04\r",
      "\u001b[K     |██████████████                  | 6.0 MB 1.9 MB/s eta 0:00:04\r",
      "\u001b[K     |██████████████                  | 6.0 MB 1.9 MB/s eta 0:00:04\r",
      "\u001b[K     |██████████████                  | 6.0 MB 1.9 MB/s eta 0:00:04\r",
      "\u001b[K     |██████████████▏                 | 6.0 MB 1.9 MB/s eta 0:00:04\r",
      "\u001b[K     |██████████████▏                 | 6.0 MB 1.9 MB/s eta 0:00:04\r",
      "\u001b[K     |██████████████▏                 | 6.0 MB 1.9 MB/s eta 0:00:04\r",
      "\u001b[K     |██████████████▏                 | 6.0 MB 1.9 MB/s eta 0:00:04\r",
      "\u001b[K     |██████████████▏                 | 6.1 MB 1.9 MB/s eta 0:00:04\r",
      "\u001b[K     |██████████████▎                 | 6.1 MB 1.9 MB/s eta 0:00:04\r",
      "\u001b[K     |██████████████▎                 | 6.1 MB 1.9 MB/s eta 0:00:04\r",
      "\u001b[K     |██████████████▎                 | 6.1 MB 1.9 MB/s eta 0:00:04\r",
      "\u001b[K     |██████████████▎                 | 6.1 MB 1.9 MB/s eta 0:00:04\r",
      "\u001b[K     |██████████████▍                 | 6.1 MB 1.9 MB/s eta 0:00:04\r",
      "\u001b[K     |██████████████▍                 | 6.1 MB 1.9 MB/s eta 0:00:04\r",
      "\u001b[K     |██████████████▍                 | 6.1 MB 1.9 MB/s eta 0:00:04\r",
      "\u001b[K     |██████████████▍                 | 6.1 MB 1.9 MB/s eta 0:00:04\r",
      "\u001b[K     |██████████████▍                 | 6.1 MB 1.9 MB/s eta 0:00:04\r",
      "\u001b[K     |██████████████▌                 | 6.2 MB 1.9 MB/s eta 0:00:04\r",
      "\u001b[K     |██████████████▌                 | 6.2 MB 1.9 MB/s eta 0:00:04\r",
      "\u001b[K     |██████████████▌                 | 6.2 MB 1.9 MB/s eta 0:00:04\r",
      "\u001b[K     |██████████████▌                 | 6.2 MB 1.9 MB/s eta 0:00:04\r",
      "\u001b[K     |██████████████▌                 | 6.2 MB 1.9 MB/s eta 0:00:04\r",
      "\u001b[K     |██████████████▋                 | 6.2 MB 1.9 MB/s eta 0:00:04\r",
      "\u001b[K     |██████████████▋                 | 6.2 MB 1.9 MB/s eta 0:00:04\r",
      "\u001b[K     |██████████████▋                 | 6.2 MB 1.9 MB/s eta 0:00:04\r",
      "\u001b[K     |██████████████▋                 | 6.2 MB 1.9 MB/s eta 0:00:04\r",
      "\u001b[K     |██████████████▊                 | 6.2 MB 1.9 MB/s eta 0:00:04\r",
      "\u001b[K     |██████████████▊                 | 6.3 MB 1.9 MB/s eta 0:00:04\r",
      "\u001b[K     |██████████████▊                 | 6.3 MB 1.9 MB/s eta 0:00:04\r",
      "\u001b[K     |██████████████▊                 | 6.3 MB 1.9 MB/s eta 0:00:04\r",
      "\u001b[K     |██████████████▊                 | 6.3 MB 1.9 MB/s eta 0:00:04\r",
      "\u001b[K     |██████████████▉                 | 6.3 MB 1.9 MB/s eta 0:00:04\r",
      "\u001b[K     |██████████████▉                 | 6.3 MB 1.9 MB/s eta 0:00:04\r",
      "\u001b[K     |██████████████▉                 | 6.3 MB 1.9 MB/s eta 0:00:04\r",
      "\u001b[K     |██████████████▉                 | 6.3 MB 1.9 MB/s eta 0:00:04\r",
      "\u001b[K     |███████████████                 | 6.3 MB 1.9 MB/s eta 0:00:04\r",
      "\u001b[K     |███████████████                 | 6.3 MB 1.9 MB/s eta 0:00:04\r",
      "\u001b[K     |███████████████                 | 6.4 MB 1.9 MB/s eta 0:00:04\r",
      "\u001b[K     |███████████████                 | 6.4 MB 1.9 MB/s eta 0:00:04\r",
      "\u001b[K     |███████████████                 | 6.4 MB 1.9 MB/s eta 0:00:04\r",
      "\u001b[K     |███████████████                 | 6.4 MB 1.9 MB/s eta 0:00:04\r",
      "\u001b[K     |███████████████                 | 6.4 MB 1.9 MB/s eta 0:00:04\r",
      "\u001b[K     |███████████████                 | 6.4 MB 1.9 MB/s eta 0:00:04\r",
      "\u001b[K     |███████████████                 | 6.4 MB 1.9 MB/s eta 0:00:04\r",
      "\u001b[K     |███████████████                 | 6.4 MB 1.9 MB/s eta 0:00:04\r",
      "\u001b[K     |███████████████▏                | 6.4 MB 1.9 MB/s eta 0:00:04\r",
      "\u001b[K     |███████████████▏                | 6.5 MB 1.9 MB/s eta 0:00:04"
     ]
    },
    {
     "name": "stdout",
     "output_type": "stream",
     "text": [
      "\r",
      "\u001b[K     |███████████████▏                | 6.5 MB 1.9 MB/s eta 0:00:04\r",
      "\u001b[K     |███████████████▏                | 6.5 MB 1.9 MB/s eta 0:00:04\r",
      "\u001b[K     |███████████████▎                | 6.5 MB 1.9 MB/s eta 0:00:04\r",
      "\u001b[K     |███████████████▎                | 6.5 MB 1.9 MB/s eta 0:00:04\r",
      "\u001b[K     |███████████████▎                | 6.5 MB 1.9 MB/s eta 0:00:04\r",
      "\u001b[K     |███████████████▎                | 6.5 MB 1.9 MB/s eta 0:00:04\r",
      "\u001b[K     |███████████████▎                | 6.5 MB 1.9 MB/s eta 0:00:04\r",
      "\u001b[K     |███████████████▍                | 6.5 MB 1.9 MB/s eta 0:00:04\r",
      "\u001b[K     |███████████████▍                | 6.5 MB 1.9 MB/s eta 0:00:04\r",
      "\u001b[K     |███████████████▍                | 6.6 MB 1.9 MB/s eta 0:00:04\r",
      "\u001b[K     |███████████████▍                | 6.6 MB 1.9 MB/s eta 0:00:04\r",
      "\u001b[K     |███████████████▍                | 6.6 MB 1.9 MB/s eta 0:00:04\r",
      "\u001b[K     |███████████████▌                | 6.6 MB 1.9 MB/s eta 0:00:04\r",
      "\u001b[K     |███████████████▌                | 6.6 MB 1.9 MB/s eta 0:00:04\r",
      "\u001b[K     |███████████████▌                | 6.6 MB 1.9 MB/s eta 0:00:04\r",
      "\u001b[K     |███████████████▌                | 6.6 MB 1.9 MB/s eta 0:00:04\r",
      "\u001b[K     |███████████████▋                | 6.6 MB 1.9 MB/s eta 0:00:04\r",
      "\u001b[K     |███████████████▋                | 6.6 MB 1.9 MB/s eta 0:00:04\r",
      "\u001b[K     |███████████████▋                | 6.6 MB 1.9 MB/s eta 0:00:04\r",
      "\u001b[K     |███████████████▋                | 6.7 MB 1.9 MB/s eta 0:00:04\r",
      "\u001b[K     |███████████████▋                | 6.7 MB 1.9 MB/s eta 0:00:04\r",
      "\u001b[K     |███████████████▊                | 6.7 MB 1.9 MB/s eta 0:00:04\r",
      "\u001b[K     |███████████████▊                | 6.7 MB 1.9 MB/s eta 0:00:04\r",
      "\u001b[K     |███████████████▊                | 6.7 MB 1.9 MB/s eta 0:00:04\r",
      "\u001b[K     |███████████████▊                | 6.7 MB 1.9 MB/s eta 0:00:04\r",
      "\u001b[K     |███████████████▉                | 6.7 MB 1.9 MB/s eta 0:00:04\r",
      "\u001b[K     |███████████████▉                | 6.7 MB 1.9 MB/s eta 0:00:04\r",
      "\u001b[K     |███████████████▉                | 6.7 MB 1.9 MB/s eta 0:00:04\r",
      "\u001b[K     |███████████████▉                | 6.7 MB 1.9 MB/s eta 0:00:04\r",
      "\u001b[K     |███████████████▉                | 6.8 MB 1.9 MB/s eta 0:00:04\r",
      "\u001b[K     |████████████████                | 6.8 MB 1.9 MB/s eta 0:00:04\r",
      "\u001b[K     |████████████████                | 6.8 MB 1.9 MB/s eta 0:00:04\r",
      "\u001b[K     |████████████████                | 6.8 MB 1.9 MB/s eta 0:00:04\r",
      "\u001b[K     |████████████████                | 6.8 MB 1.9 MB/s eta 0:00:04\r",
      "\u001b[K     |████████████████                | 6.8 MB 1.9 MB/s eta 0:00:04\r",
      "\u001b[K     |████████████████                | 6.8 MB 1.9 MB/s eta 0:00:04\r",
      "\u001b[K     |████████████████                | 6.8 MB 1.9 MB/s eta 0:00:04\r",
      "\u001b[K     |████████████████                | 6.8 MB 1.9 MB/s eta 0:00:04\r",
      "\u001b[K     |████████████████                | 6.9 MB 1.9 MB/s eta 0:00:04\r",
      "\u001b[K     |████████████████▏               | 6.9 MB 1.9 MB/s eta 0:00:04\r",
      "\u001b[K     |████████████████▏               | 6.9 MB 1.9 MB/s eta 0:00:04\r",
      "\u001b[K     |████████████████▏               | 6.9 MB 1.9 MB/s eta 0:00:04\r",
      "\u001b[K     |████████████████▏               | 6.9 MB 1.9 MB/s eta 0:00:04\r",
      "\u001b[K     |████████████████▏               | 6.9 MB 1.9 MB/s eta 0:00:04\r",
      "\u001b[K     |████████████████▎               | 6.9 MB 1.9 MB/s eta 0:00:04\r",
      "\u001b[K     |████████████████▎               | 6.9 MB 1.9 MB/s eta 0:00:04\r",
      "\u001b[K     |████████████████▎               | 6.9 MB 1.9 MB/s eta 0:00:04\r",
      "\u001b[K     |████████████████▎               | 6.9 MB 1.9 MB/s eta 0:00:04\r",
      "\u001b[K     |████████████████▎               | 7.0 MB 1.9 MB/s eta 0:00:04\r",
      "\u001b[K     |████████████████▍               | 7.0 MB 1.9 MB/s eta 0:00:04\r",
      "\u001b[K     |████████████████▍               | 7.0 MB 1.9 MB/s eta 0:00:04\r",
      "\u001b[K     |████████████████▍               | 7.0 MB 1.9 MB/s eta 0:00:04\r",
      "\u001b[K     |████████████████▍               | 7.0 MB 1.9 MB/s eta 0:00:04\r",
      "\u001b[K     |████████████████▌               | 7.0 MB 1.9 MB/s eta 0:00:04\r",
      "\u001b[K     |████████████████▌               | 7.0 MB 1.9 MB/s eta 0:00:04\r",
      "\u001b[K     |████████████████▌               | 7.0 MB 1.9 MB/s eta 0:00:04\r",
      "\u001b[K     |████████████████▌               | 7.0 MB 1.9 MB/s eta 0:00:04\r",
      "\u001b[K     |████████████████▌               | 7.0 MB 1.9 MB/s eta 0:00:04\r",
      "\u001b[K     |████████████████▋               | 7.1 MB 1.9 MB/s eta 0:00:04\r",
      "\u001b[K     |████████████████▋               | 7.1 MB 1.9 MB/s eta 0:00:04\r",
      "\u001b[K     |████████████████▋               | 7.1 MB 1.9 MB/s eta 0:00:04\r",
      "\u001b[K     |████████████████▋               | 7.1 MB 1.9 MB/s eta 0:00:04"
     ]
    },
    {
     "name": "stdout",
     "output_type": "stream",
     "text": [
      "\r",
      "\u001b[K     |████████████████▊               | 7.1 MB 1.9 MB/s eta 0:00:04\r",
      "\u001b[K     |████████████████▊               | 7.1 MB 1.9 MB/s eta 0:00:04\r",
      "\u001b[K     |████████████████▊               | 7.1 MB 1.9 MB/s eta 0:00:04\r",
      "\u001b[K     |████████████████▊               | 7.1 MB 1.9 MB/s eta 0:00:04\r",
      "\u001b[K     |████████████████▊               | 7.1 MB 1.9 MB/s eta 0:00:04\r",
      "\u001b[K     |████████████████▉               | 7.1 MB 1.9 MB/s eta 0:00:04\r",
      "\u001b[K     |████████████████▉               | 7.2 MB 1.9 MB/s eta 0:00:04\r",
      "\u001b[K     |████████████████▉               | 7.2 MB 1.9 MB/s eta 0:00:04\r",
      "\u001b[K     |████████████████▉               | 7.2 MB 1.9 MB/s eta 0:00:04\r",
      "\u001b[K     |████████████████▉               | 7.2 MB 1.9 MB/s eta 0:00:04\r",
      "\u001b[K     |█████████████████               | 7.2 MB 1.9 MB/s eta 0:00:04\r",
      "\u001b[K     |█████████████████               | 7.2 MB 1.9 MB/s eta 0:00:04\r",
      "\u001b[K     |█████████████████               | 7.2 MB 1.9 MB/s eta 0:00:04\r",
      "\u001b[K     |█████████████████               | 7.2 MB 1.9 MB/s eta 0:00:04\r",
      "\u001b[K     |█████████████████               | 7.2 MB 1.9 MB/s eta 0:00:04\r",
      "\u001b[K     |█████████████████               | 7.2 MB 1.9 MB/s eta 0:00:04\r",
      "\u001b[K     |█████████████████               | 7.3 MB 1.9 MB/s eta 0:00:04\r",
      "\u001b[K     |█████████████████               | 7.3 MB 1.9 MB/s eta 0:00:04\r",
      "\u001b[K     |█████████████████               | 7.3 MB 1.9 MB/s eta 0:00:04\r",
      "\u001b[K     |█████████████████▏              | 7.3 MB 1.9 MB/s eta 0:00:04\r",
      "\u001b[K     |█████████████████▏              | 7.3 MB 1.9 MB/s eta 0:00:04\r",
      "\u001b[K     |█████████████████▏              | 7.3 MB 1.9 MB/s eta 0:00:04\r",
      "\u001b[K     |█████████████████▏              | 7.3 MB 1.9 MB/s eta 0:00:04\r",
      "\u001b[K     |█████████████████▎              | 7.3 MB 1.9 MB/s eta 0:00:04\r",
      "\u001b[K     |█████████████████▎              | 7.3 MB 1.9 MB/s eta 0:00:04\r",
      "\u001b[K     |█████████████████▎              | 7.4 MB 1.9 MB/s eta 0:00:04\r",
      "\u001b[K     |█████████████████▎              | 7.4 MB 1.9 MB/s eta 0:00:04\r",
      "\u001b[K     |█████████████████▎              | 7.4 MB 1.9 MB/s eta 0:00:04\r",
      "\u001b[K     |█████████████████▍              | 7.4 MB 1.9 MB/s eta 0:00:04\r",
      "\u001b[K     |█████████████████▍              | 7.4 MB 1.9 MB/s eta 0:00:04\r",
      "\u001b[K     |█████████████████▍              | 7.4 MB 1.9 MB/s eta 0:00:04\r",
      "\u001b[K     |█████████████████▍              | 7.4 MB 1.9 MB/s eta 0:00:04\r",
      "\u001b[K     |█████████████████▍              | 7.4 MB 1.9 MB/s eta 0:00:04\r",
      "\u001b[K     |█████████████████▌              | 7.4 MB 1.9 MB/s eta 0:00:04\r",
      "\u001b[K     |█████████████████▌              | 7.4 MB 1.9 MB/s eta 0:00:04\r",
      "\u001b[K     |█████████████████▌              | 7.5 MB 1.9 MB/s eta 0:00:04\r",
      "\u001b[K     |█████████████████▌              | 7.5 MB 1.9 MB/s eta 0:00:04\r",
      "\u001b[K     |█████████████████▋              | 7.5 MB 1.9 MB/s eta 0:00:04\r",
      "\u001b[K     |█████████████████▋              | 7.5 MB 1.9 MB/s eta 0:00:04\r",
      "\u001b[K     |█████████████████▋              | 7.5 MB 1.9 MB/s eta 0:00:04\r",
      "\u001b[K     |█████████████████▋              | 7.5 MB 1.9 MB/s eta 0:00:04\r",
      "\u001b[K     |█████████████████▋              | 7.5 MB 1.9 MB/s eta 0:00:04\r",
      "\u001b[K     |█████████████████▊              | 7.5 MB 1.9 MB/s eta 0:00:04\r",
      "\u001b[K     |█████████████████▊              | 7.5 MB 1.9 MB/s eta 0:00:04\r",
      "\u001b[K     |█████████████████▊              | 7.5 MB 1.9 MB/s eta 0:00:04\r",
      "\u001b[K     |█████████████████▊              | 7.6 MB 1.9 MB/s eta 0:00:04\r",
      "\u001b[K     |█████████████████▊              | 7.6 MB 1.9 MB/s eta 0:00:04\r",
      "\u001b[K     |█████████████████▉              | 7.6 MB 1.9 MB/s eta 0:00:04\r",
      "\u001b[K     |█████████████████▉              | 7.6 MB 1.9 MB/s eta 0:00:04\r",
      "\u001b[K     |█████████████████▉              | 7.6 MB 1.9 MB/s eta 0:00:04\r",
      "\u001b[K     |█████████████████▉              | 7.6 MB 1.9 MB/s eta 0:00:04\r",
      "\u001b[K     |██████████████████              | 7.6 MB 1.9 MB/s eta 0:00:04\r",
      "\u001b[K     |██████████████████              | 7.6 MB 1.9 MB/s eta 0:00:04\r",
      "\u001b[K     |██████████████████              | 7.6 MB 1.9 MB/s eta 0:00:04\r",
      "\u001b[K     |██████████████████              | 7.6 MB 1.9 MB/s eta 0:00:04\r",
      "\u001b[K     |██████████████████              | 7.7 MB 1.9 MB/s eta 0:00:04"
     ]
    },
    {
     "name": "stdout",
     "output_type": "stream",
     "text": [
      "\r",
      "\u001b[K     |██████████████████              | 7.7 MB 1.9 MB/s eta 0:00:04\r",
      "\u001b[K     |██████████████████              | 7.7 MB 1.9 MB/s eta 0:00:04\r",
      "\u001b[K     |██████████████████              | 7.7 MB 1.9 MB/s eta 0:00:04\r",
      "\u001b[K     |██████████████████              | 7.7 MB 1.9 MB/s eta 0:00:04\r",
      "\u001b[K     |██████████████████▏             | 7.7 MB 1.9 MB/s eta 0:00:04\r",
      "\u001b[K     |██████████████████▏             | 7.7 MB 1.9 MB/s eta 0:00:04\r",
      "\u001b[K     |██████████████████▏             | 7.7 MB 1.9 MB/s eta 0:00:04\r",
      "\u001b[K     |██████████████████▏             | 7.7 MB 1.9 MB/s eta 0:00:04\r",
      "\u001b[K     |██████████████████▏             | 7.8 MB 1.9 MB/s eta 0:00:04\r",
      "\u001b[K     |██████████████████▎             | 7.8 MB 1.9 MB/s eta 0:00:04\r",
      "\u001b[K     |██████████████████▎             | 7.8 MB 1.9 MB/s eta 0:00:04\r",
      "\u001b[K     |██████████████████▎             | 7.8 MB 1.9 MB/s eta 0:00:04\r",
      "\u001b[K     |██████████████████▎             | 7.8 MB 1.9 MB/s eta 0:00:04\r",
      "\u001b[K     |██████████████████▎             | 7.8 MB 1.9 MB/s eta 0:00:03\r",
      "\u001b[K     |██████████████████▍             | 7.8 MB 1.9 MB/s eta 0:00:03\r",
      "\u001b[K     |██████████████████▍             | 7.8 MB 1.9 MB/s eta 0:00:03\r",
      "\u001b[K     |██████████████████▍             | 7.8 MB 1.9 MB/s eta 0:00:03\r",
      "\u001b[K     |██████████████████▍             | 7.8 MB 1.9 MB/s eta 0:00:03\r",
      "\u001b[K     |██████████████████▌             | 7.9 MB 1.9 MB/s eta 0:00:03\r",
      "\u001b[K     |██████████████████▌             | 7.9 MB 1.9 MB/s eta 0:00:03\r",
      "\u001b[K     |██████████████████▌             | 7.9 MB 1.9 MB/s eta 0:00:03\r",
      "\u001b[K     |██████████████████▌             | 7.9 MB 1.9 MB/s eta 0:00:03\r",
      "\u001b[K     |██████████████████▌             | 7.9 MB 1.9 MB/s eta 0:00:03\r",
      "\u001b[K     |██████████████████▋             | 7.9 MB 1.9 MB/s eta 0:00:03\r",
      "\u001b[K     |██████████████████▋             | 7.9 MB 1.9 MB/s eta 0:00:03\r",
      "\u001b[K     |██████████████████▋             | 7.9 MB 1.9 MB/s eta 0:00:03\r",
      "\u001b[K     |██████████████████▋             | 7.9 MB 1.9 MB/s eta 0:00:03\r",
      "\u001b[K     |██████████████████▋             | 7.9 MB 1.9 MB/s eta 0:00:03\r",
      "\u001b[K     |██████████████████▊             | 8.0 MB 1.9 MB/s eta 0:00:03\r",
      "\u001b[K     |██████████████████▊             | 8.0 MB 1.9 MB/s eta 0:00:03\r",
      "\u001b[K     |██████████████████▊             | 8.0 MB 1.9 MB/s eta 0:00:03\r",
      "\u001b[K     |██████████████████▊             | 8.0 MB 1.9 MB/s eta 0:00:03\r",
      "\u001b[K     |██████████████████▉             | 8.0 MB 1.9 MB/s eta 0:00:03\r",
      "\u001b[K     |██████████████████▉             | 8.0 MB 1.9 MB/s eta 0:00:03\r",
      "\u001b[K     |██████████████████▉             | 8.0 MB 1.9 MB/s eta 0:00:03\r",
      "\u001b[K     |██████████████████▉             | 8.0 MB 1.9 MB/s eta 0:00:03\r",
      "\u001b[K     |██████████████████▉             | 8.0 MB 1.9 MB/s eta 0:00:03\r",
      "\u001b[K     |███████████████████             | 8.0 MB 1.9 MB/s eta 0:00:03\r",
      "\u001b[K     |███████████████████             | 8.1 MB 1.9 MB/s eta 0:00:03\r",
      "\u001b[K     |███████████████████             | 8.1 MB 1.9 MB/s eta 0:00:03\r",
      "\u001b[K     |███████████████████             | 8.1 MB 1.9 MB/s eta 0:00:03\r",
      "\u001b[K     |███████████████████             | 8.1 MB 1.9 MB/s eta 0:00:03\r",
      "\u001b[K     |███████████████████             | 8.1 MB 1.9 MB/s eta 0:00:03\r",
      "\u001b[K     |███████████████████             | 8.1 MB 1.9 MB/s eta 0:00:03\r",
      "\u001b[K     |███████████████████             | 8.1 MB 1.9 MB/s eta 0:00:03"
     ]
    },
    {
     "name": "stdout",
     "output_type": "stream",
     "text": [
      "\r",
      "\u001b[K     |███████████████████             | 8.1 MB 1.9 MB/s eta 0:00:03\r",
      "\u001b[K     |███████████████████▏            | 8.1 MB 1.9 MB/s eta 0:00:03\r",
      "\u001b[K     |███████████████████▏            | 8.2 MB 1.9 MB/s eta 0:00:03\r",
      "\u001b[K     |███████████████████▏            | 8.2 MB 1.9 MB/s eta 0:00:03\r",
      "\u001b[K     |███████████████████▏            | 8.2 MB 1.9 MB/s eta 0:00:03\r",
      "\u001b[K     |███████████████████▏            | 8.2 MB 1.9 MB/s eta 0:00:03"
     ]
    },
    {
     "name": "stdout",
     "output_type": "stream",
     "text": [
      "\r",
      "\u001b[K     |███████████████████▎            | 8.2 MB 1.9 MB/s eta 0:00:03\r",
      "\u001b[K     |███████████████████▎            | 8.2 MB 1.9 MB/s eta 0:00:03\r",
      "\u001b[K     |███████████████████▎            | 8.2 MB 1.9 MB/s eta 0:00:03\r",
      "\u001b[K     |███████████████████▎            | 8.2 MB 1.9 MB/s eta 0:00:03\r",
      "\u001b[K     |███████████████████▍            | 8.2 MB 1.9 MB/s eta 0:00:03\r",
      "\u001b[K     |███████████████████▍            | 8.2 MB 1.9 MB/s eta 0:00:03\r",
      "\u001b[K     |███████████████████▍            | 8.3 MB 1.9 MB/s eta 0:00:03\r",
      "\u001b[K     |███████████████████▍            | 8.3 MB 1.9 MB/s eta 0:00:03\r",
      "\u001b[K     |███████████████████▍            | 8.3 MB 1.9 MB/s eta 0:00:03\r",
      "\u001b[K     |███████████████████▌            | 8.3 MB 1.9 MB/s eta 0:00:03\r",
      "\u001b[K     |███████████████████▌            | 8.3 MB 1.9 MB/s eta 0:00:03\r",
      "\u001b[K     |███████████████████▌            | 8.3 MB 1.9 MB/s eta 0:00:03\r",
      "\u001b[K     |███████████████████▌            | 8.3 MB 1.9 MB/s eta 0:00:03\r",
      "\u001b[K     |███████████████████▋            | 8.3 MB 1.9 MB/s eta 0:00:03\r",
      "\u001b[K     |███████████████████▋            | 8.3 MB 1.9 MB/s eta 0:00:03\r",
      "\u001b[K     |███████████████████▋            | 8.3 MB 1.9 MB/s eta 0:00:03\r",
      "\u001b[K     |███████████████████▋            | 8.4 MB 1.9 MB/s eta 0:00:03\r",
      "\u001b[K     |███████████████████▋            | 8.4 MB 1.9 MB/s eta 0:00:03\r",
      "\u001b[K     |███████████████████▊            | 8.4 MB 1.9 MB/s eta 0:00:03\r",
      "\u001b[K     |███████████████████▊            | 8.4 MB 1.9 MB/s eta 0:00:03\r",
      "\u001b[K     |███████████████████▊            | 8.4 MB 1.9 MB/s eta 0:00:03\r",
      "\u001b[K     |███████████████████▊            | 8.4 MB 1.9 MB/s eta 0:00:03\r",
      "\u001b[K     |███████████████████▊            | 8.4 MB 1.9 MB/s eta 0:00:03\r",
      "\u001b[K     |███████████████████▉            | 8.4 MB 1.9 MB/s eta 0:00:03\r",
      "\u001b[K     |███████████████████▉            | 8.4 MB 1.9 MB/s eta 0:00:03\r",
      "\u001b[K     |███████████████████▉            | 8.4 MB 1.9 MB/s eta 0:00:03\r",
      "\u001b[K     |███████████████████▉            | 8.5 MB 1.9 MB/s eta 0:00:03\r",
      "\u001b[K     |████████████████████            | 8.5 MB 1.9 MB/s eta 0:00:03\r",
      "\u001b[K     |████████████████████            | 8.5 MB 1.9 MB/s eta 0:00:03\r",
      "\u001b[K     |████████████████████            | 8.5 MB 1.9 MB/s eta 0:00:03\r",
      "\u001b[K     |████████████████████            | 8.5 MB 1.9 MB/s eta 0:00:03\r",
      "\u001b[K     |████████████████████            | 8.5 MB 1.9 MB/s eta 0:00:03\r",
      "\u001b[K     |████████████████████            | 8.5 MB 1.9 MB/s eta 0:00:03\r",
      "\u001b[K     |████████████████████            | 8.5 MB 1.9 MB/s eta 0:00:03\r",
      "\u001b[K     |████████████████████            | 8.5 MB 1.9 MB/s eta 0:00:03\r",
      "\u001b[K     |████████████████████            | 8.6 MB 1.9 MB/s eta 0:00:03\r",
      "\u001b[K     |████████████████████            | 8.6 MB 1.9 MB/s eta 0:00:03\r",
      "\u001b[K     |████████████████████▏           | 8.6 MB 1.9 MB/s eta 0:00:03\r",
      "\u001b[K     |████████████████████▏           | 8.6 MB 1.9 MB/s eta 0:00:03\r",
      "\u001b[K     |████████████████████▏           | 8.6 MB 1.9 MB/s eta 0:00:03\r",
      "\u001b[K     |████████████████████▏           | 8.6 MB 1.9 MB/s eta 0:00:03\r",
      "\u001b[K     |████████████████████▎           | 8.6 MB 1.9 MB/s eta 0:00:03\r",
      "\u001b[K     |████████████████████▎           | 8.6 MB 1.9 MB/s eta 0:00:03\r",
      "\u001b[K     |████████████████████▎           | 8.6 MB 1.9 MB/s eta 0:00:03\r",
      "\u001b[K     |████████████████████▎           | 8.6 MB 1.9 MB/s eta 0:00:03\r",
      "\u001b[K     |████████████████████▎           | 8.7 MB 1.9 MB/s eta 0:00:03\r",
      "\u001b[K     |████████████████████▍           | 8.7 MB 1.9 MB/s eta 0:00:03\r",
      "\u001b[K     |████████████████████▍           | 8.7 MB 1.9 MB/s eta 0:00:03\r",
      "\u001b[K     |████████████████████▍           | 8.7 MB 1.9 MB/s eta 0:00:03\r",
      "\u001b[K     |████████████████████▍           | 8.7 MB 1.9 MB/s eta 0:00:03\r",
      "\u001b[K     |████████████████████▌           | 8.7 MB 1.9 MB/s eta 0:00:03\r",
      "\u001b[K     |████████████████████▌           | 8.7 MB 1.9 MB/s eta 0:00:03\r",
      "\u001b[K     |████████████████████▌           | 8.7 MB 1.9 MB/s eta 0:00:03\r",
      "\u001b[K     |████████████████████▌           | 8.7 MB 1.9 MB/s eta 0:00:03\r",
      "\u001b[K     |████████████████████▌           | 8.7 MB 1.9 MB/s eta 0:00:03\r",
      "\u001b[K     |████████████████████▋           | 8.8 MB 1.9 MB/s eta 0:00:03\r",
      "\u001b[K     |████████████████████▋           | 8.8 MB 1.9 MB/s eta 0:00:03\r",
      "\u001b[K     |████████████████████▋           | 8.8 MB 1.9 MB/s eta 0:00:03"
     ]
    },
    {
     "name": "stdout",
     "output_type": "stream",
     "text": [
      "\r",
      "\u001b[K     |████████████████████▋           | 8.8 MB 1.9 MB/s eta 0:00:03\r",
      "\u001b[K     |████████████████████▋           | 8.8 MB 1.9 MB/s eta 0:00:03\r",
      "\u001b[K     |████████████████████▊           | 8.8 MB 1.9 MB/s eta 0:00:03\r",
      "\u001b[K     |████████████████████▊           | 8.8 MB 1.9 MB/s eta 0:00:03\r",
      "\u001b[K     |████████████████████▊           | 8.8 MB 1.9 MB/s eta 0:00:03\r",
      "\u001b[K     |████████████████████▊           | 8.8 MB 1.9 MB/s eta 0:00:03\r",
      "\u001b[K     |████████████████████▉           | 8.8 MB 1.9 MB/s eta 0:00:03\r",
      "\u001b[K     |████████████████████▉           | 8.9 MB 1.9 MB/s eta 0:00:03\r",
      "\u001b[K     |████████████████████▉           | 8.9 MB 1.9 MB/s eta 0:00:03\r",
      "\u001b[K     |████████████████████▉           | 8.9 MB 1.9 MB/s eta 0:00:03\r",
      "\u001b[K     |████████████████████▉           | 8.9 MB 1.9 MB/s eta 0:00:03\r",
      "\u001b[K     |█████████████████████           | 8.9 MB 1.9 MB/s eta 0:00:03\r",
      "\u001b[K     |█████████████████████           | 8.9 MB 1.9 MB/s eta 0:00:03\r",
      "\u001b[K     |█████████████████████           | 8.9 MB 1.9 MB/s eta 0:00:03\r",
      "\u001b[K     |█████████████████████           | 8.9 MB 1.9 MB/s eta 0:00:03\r",
      "\u001b[K     |█████████████████████           | 8.9 MB 1.9 MB/s eta 0:00:03\r",
      "\u001b[K     |█████████████████████           | 8.9 MB 1.9 MB/s eta 0:00:03\r",
      "\u001b[K     |█████████████████████           | 9.0 MB 1.9 MB/s eta 0:00:03\r",
      "\u001b[K     |█████████████████████           | 9.0 MB 1.9 MB/s eta 0:00:03\r",
      "\u001b[K     |█████████████████████           | 9.0 MB 1.9 MB/s eta 0:00:03\r",
      "\u001b[K     |█████████████████████▏          | 9.0 MB 1.9 MB/s eta 0:00:03\r",
      "\u001b[K     |█████████████████████▏          | 9.0 MB 1.9 MB/s eta 0:00:03\r",
      "\u001b[K     |█████████████████████▏          | 9.0 MB 1.9 MB/s eta 0:00:03\r",
      "\u001b[K     |█████████████████████▏          | 9.0 MB 1.9 MB/s eta 0:00:03\r",
      "\u001b[K     |█████████████████████▏          | 9.0 MB 1.9 MB/s eta 0:00:03\r",
      "\u001b[K     |█████████████████████▎          | 9.0 MB 1.9 MB/s eta 0:00:03\r",
      "\u001b[K     |█████████████████████▎          | 9.1 MB 1.9 MB/s eta 0:00:03\r",
      "\u001b[K     |█████████████████████▎          | 9.1 MB 1.9 MB/s eta 0:00:03\r",
      "\u001b[K     |█████████████████████▎          | 9.1 MB 1.9 MB/s eta 0:00:03\r",
      "\u001b[K     |█████████████████████▍          | 9.1 MB 1.9 MB/s eta 0:00:03\r",
      "\u001b[K     |█████████████████████▍          | 9.1 MB 1.9 MB/s eta 0:00:03\r",
      "\u001b[K     |█████████████████████▍          | 9.1 MB 1.9 MB/s eta 0:00:03"
     ]
    },
    {
     "name": "stdout",
     "output_type": "stream",
     "text": [
      "\r",
      "\u001b[K     |█████████████████████▍          | 9.1 MB 827 kB/s eta 0:00:06\r",
      "\u001b[K     |█████████████████████▍          | 9.1 MB 827 kB/s eta 0:00:06\r",
      "\u001b[K     |█████████████████████▌          | 9.1 MB 827 kB/s eta 0:00:06\r",
      "\u001b[K     |█████████████████████▌          | 9.1 MB 827 kB/s eta 0:00:06\r",
      "\u001b[K     |█████████████████████▌          | 9.2 MB 827 kB/s eta 0:00:06\r",
      "\u001b[K     |█████████████████████▌          | 9.2 MB 827 kB/s eta 0:00:06\r",
      "\u001b[K     |█████████████████████▌          | 9.2 MB 827 kB/s eta 0:00:06\r",
      "\u001b[K     |█████████████████████▋          | 9.2 MB 827 kB/s eta 0:00:06\r",
      "\u001b[K     |█████████████████████▋          | 9.2 MB 827 kB/s eta 0:00:06\r",
      "\u001b[K     |█████████████████████▋          | 9.2 MB 827 kB/s eta 0:00:06\r",
      "\u001b[K     |█████████████████████▋          | 9.2 MB 827 kB/s eta 0:00:06\r",
      "\u001b[K     |█████████████████████▊          | 9.2 MB 827 kB/s eta 0:00:06\r",
      "\u001b[K     |█████████████████████▊          | 9.2 MB 827 kB/s eta 0:00:06\r",
      "\u001b[K     |█████████████████████▊          | 9.2 MB 827 kB/s eta 0:00:06\r",
      "\u001b[K     |█████████████████████▊          | 9.3 MB 827 kB/s eta 0:00:06\r",
      "\u001b[K     |█████████████████████▊          | 9.3 MB 827 kB/s eta 0:00:06"
     ]
    },
    {
     "name": "stdout",
     "output_type": "stream",
     "text": [
      "\r",
      "\u001b[K     |█████████████████████▉          | 9.3 MB 827 kB/s eta 0:00:06\r",
      "\u001b[K     |█████████████████████▉          | 9.3 MB 827 kB/s eta 0:00:06\r",
      "\u001b[K     |█████████████████████▉          | 9.3 MB 827 kB/s eta 0:00:06\r",
      "\u001b[K     |█████████████████████▉          | 9.3 MB 827 kB/s eta 0:00:06\r",
      "\u001b[K     |██████████████████████          | 9.3 MB 827 kB/s eta 0:00:06\r",
      "\u001b[K     |██████████████████████          | 9.3 MB 827 kB/s eta 0:00:06"
     ]
    },
    {
     "name": "stdout",
     "output_type": "stream",
     "text": [
      "\r",
      "\u001b[K     |██████████████████████          | 9.3 MB 827 kB/s eta 0:00:06\r",
      "\u001b[K     |██████████████████████          | 9.3 MB 827 kB/s eta 0:00:06\r",
      "\u001b[K     |██████████████████████          | 9.4 MB 827 kB/s eta 0:00:06\r",
      "\u001b[K     |██████████████████████          | 9.4 MB 827 kB/s eta 0:00:06\r",
      "\u001b[K     |██████████████████████          | 9.4 MB 827 kB/s eta 0:00:06\r",
      "\u001b[K     |██████████████████████          | 9.4 MB 827 kB/s eta 0:00:06\r",
      "\u001b[K     |██████████████████████          | 9.4 MB 827 kB/s eta 0:00:06\r",
      "\u001b[K     |██████████████████████          | 9.4 MB 827 kB/s eta 0:00:06\r",
      "\u001b[K     |██████████████████████▏         | 9.4 MB 827 kB/s eta 0:00:06\r",
      "\u001b[K     |██████████████████████▏         | 9.4 MB 827 kB/s eta 0:00:06\r",
      "\u001b[K     |██████████████████████▏         | 9.4 MB 827 kB/s eta 0:00:06\r",
      "\u001b[K     |██████████████████████▏         | 9.5 MB 827 kB/s eta 0:00:06"
     ]
    },
    {
     "name": "stdout",
     "output_type": "stream",
     "text": [
      "\r",
      "\u001b[K     |██████████████████████▎         | 9.5 MB 827 kB/s eta 0:00:06\r",
      "\u001b[K     |██████████████████████▎         | 9.5 MB 827 kB/s eta 0:00:06\r",
      "\u001b[K     |██████████████████████▎         | 9.5 MB 827 kB/s eta 0:00:06\r",
      "\u001b[K     |██████████████████████▎         | 9.5 MB 827 kB/s eta 0:00:05\r",
      "\u001b[K     |██████████████████████▎         | 9.5 MB 827 kB/s eta 0:00:05\r",
      "\u001b[K     |██████████████████████▍         | 9.5 MB 827 kB/s eta 0:00:05\r",
      "\u001b[K     |██████████████████████▍         | 9.5 MB 827 kB/s eta 0:00:05\r",
      "\u001b[K     |██████████████████████▍         | 9.5 MB 827 kB/s eta 0:00:05\r",
      "\u001b[K     |██████████████████████▍         | 9.5 MB 827 kB/s eta 0:00:05\r",
      "\u001b[K     |██████████████████████▍         | 9.6 MB 827 kB/s eta 0:00:05\r",
      "\u001b[K     |██████████████████████▌         | 9.6 MB 827 kB/s eta 0:00:05"
     ]
    },
    {
     "name": "stdout",
     "output_type": "stream",
     "text": [
      "\r",
      "\u001b[K     |██████████████████████▌         | 9.6 MB 827 kB/s eta 0:00:05\r",
      "\u001b[K     |██████████████████████▌         | 9.6 MB 827 kB/s eta 0:00:05\r",
      "\u001b[K     |██████████████████████▌         | 9.6 MB 827 kB/s eta 0:00:05\r",
      "\u001b[K     |██████████████████████▋         | 9.6 MB 827 kB/s eta 0:00:05\r",
      "\u001b[K     |██████████████████████▋         | 9.6 MB 827 kB/s eta 0:00:05\r",
      "\u001b[K     |██████████████████████▋         | 9.6 MB 827 kB/s eta 0:00:05"
     ]
    },
    {
     "name": "stdout",
     "output_type": "stream",
     "text": [
      "\r",
      "\u001b[K     |██████████████████████▋         | 9.6 MB 827 kB/s eta 0:00:05\r",
      "\u001b[K     |██████████████████████▋         | 9.6 MB 827 kB/s eta 0:00:05\r",
      "\u001b[K     |██████████████████████▊         | 9.7 MB 827 kB/s eta 0:00:05\r",
      "\u001b[K     |██████████████████████▊         | 9.7 MB 827 kB/s eta 0:00:05\r",
      "\u001b[K     |██████████████████████▊         | 9.7 MB 827 kB/s eta 0:00:05\r",
      "\u001b[K     |██████████████████████▊         | 9.7 MB 827 kB/s eta 0:00:05\r",
      "\u001b[K     |██████████████████████▉         | 9.7 MB 827 kB/s eta 0:00:05\r",
      "\u001b[K     |██████████████████████▉         | 9.7 MB 827 kB/s eta 0:00:05\r",
      "\u001b[K     |██████████████████████▉         | 9.7 MB 827 kB/s eta 0:00:05\r",
      "\u001b[K     |██████████████████████▉         | 9.7 MB 827 kB/s eta 0:00:05\r",
      "\u001b[K     |██████████████████████▉         | 9.7 MB 827 kB/s eta 0:00:05\r",
      "\u001b[K     |███████████████████████         | 9.7 MB 827 kB/s eta 0:00:05\r",
      "\u001b[K     |███████████████████████         | 9.8 MB 827 kB/s eta 0:00:05\r",
      "\u001b[K     |███████████████████████         | 9.8 MB 827 kB/s eta 0:00:05\r",
      "\u001b[K     |███████████████████████         | 9.8 MB 827 kB/s eta 0:00:05\r",
      "\u001b[K     |███████████████████████         | 9.8 MB 827 kB/s eta 0:00:05\r",
      "\u001b[K     |███████████████████████         | 9.8 MB 827 kB/s eta 0:00:05\r",
      "\u001b[K     |███████████████████████         | 9.8 MB 827 kB/s eta 0:00:05\r",
      "\u001b[K     |███████████████████████         | 9.8 MB 827 kB/s eta 0:00:05\r",
      "\u001b[K     |███████████████████████         | 9.8 MB 827 kB/s eta 0:00:05\r",
      "\u001b[K     |███████████████████████▏        | 9.8 MB 827 kB/s eta 0:00:05\r",
      "\u001b[K     |███████████████████████▏        | 9.9 MB 827 kB/s eta 0:00:05\r",
      "\u001b[K     |███████████████████████▏        | 9.9 MB 827 kB/s eta 0:00:05\r",
      "\u001b[K     |███████████████████████▏        | 9.9 MB 827 kB/s eta 0:00:05\r",
      "\u001b[K     |███████████████████████▏        | 9.9 MB 827 kB/s eta 0:00:05\r",
      "\u001b[K     |███████████████████████▎        | 9.9 MB 827 kB/s eta 0:00:05\r",
      "\u001b[K     |███████████████████████▎        | 9.9 MB 827 kB/s eta 0:00:05\r",
      "\u001b[K     |███████████████████████▎        | 9.9 MB 827 kB/s eta 0:00:05\r",
      "\u001b[K     |███████████████████████▎        | 9.9 MB 827 kB/s eta 0:00:05\r",
      "\u001b[K     |███████████████████████▎        | 9.9 MB 827 kB/s eta 0:00:05\r",
      "\u001b[K     |███████████████████████▍        | 9.9 MB 827 kB/s eta 0:00:05\r",
      "\u001b[K     |███████████████████████▍        | 10.0 MB 827 kB/s eta 0:00:05"
     ]
    },
    {
     "name": "stdout",
     "output_type": "stream",
     "text": [
      "\r",
      "\u001b[K     |███████████████████████▍        | 10.0 MB 827 kB/s eta 0:00:05\r",
      "\u001b[K     |███████████████████████▍        | 10.0 MB 827 kB/s eta 0:00:05\r",
      "\u001b[K     |███████████████████████▌        | 10.0 MB 827 kB/s eta 0:00:05\r",
      "\u001b[K     |███████████████████████▌        | 10.0 MB 827 kB/s eta 0:00:05\r",
      "\u001b[K     |███████████████████████▌        | 10.0 MB 827 kB/s eta 0:00:05\r",
      "\u001b[K     |███████████████████████▌        | 10.0 MB 827 kB/s eta 0:00:05\r",
      "\u001b[K     |███████████████████████▌        | 10.0 MB 827 kB/s eta 0:00:05\r",
      "\u001b[K     |███████████████████████▋        | 10.0 MB 827 kB/s eta 0:00:05\r",
      "\u001b[K     |███████████████████████▋        | 10.0 MB 827 kB/s eta 0:00:05\r",
      "\u001b[K     |███████████████████████▋        | 10.1 MB 827 kB/s eta 0:00:05\r",
      "\u001b[K     |███████████████████████▋        | 10.1 MB 827 kB/s eta 0:00:05\r",
      "\u001b[K     |███████████████████████▊        | 10.1 MB 827 kB/s eta 0:00:05\r",
      "\u001b[K     |███████████████████████▊        | 10.1 MB 827 kB/s eta 0:00:05\r",
      "\u001b[K     |███████████████████████▊        | 10.1 MB 827 kB/s eta 0:00:05\r",
      "\u001b[K     |███████████████████████▊        | 10.1 MB 827 kB/s eta 0:00:05\r",
      "\u001b[K     |███████████████████████▊        | 10.1 MB 827 kB/s eta 0:00:05\r",
      "\u001b[K     |███████████████████████▉        | 10.1 MB 827 kB/s eta 0:00:05\r",
      "\u001b[K     |███████████████████████▉        | 10.1 MB 827 kB/s eta 0:00:05\r",
      "\u001b[K     |███████████████████████▉        | 10.1 MB 827 kB/s eta 0:00:05\r",
      "\u001b[K     |███████████████████████▉        | 10.2 MB 827 kB/s eta 0:00:05\r",
      "\u001b[K     |███████████████████████▉        | 10.2 MB 827 kB/s eta 0:00:05\r",
      "\u001b[K     |████████████████████████        | 10.2 MB 827 kB/s eta 0:00:05\r",
      "\u001b[K     |████████████████████████        | 10.2 MB 827 kB/s eta 0:00:05\r",
      "\u001b[K     |████████████████████████        | 10.2 MB 827 kB/s eta 0:00:05\r",
      "\u001b[K     |████████████████████████        | 10.2 MB 827 kB/s eta 0:00:05\r",
      "\u001b[K     |████████████████████████        | 10.2 MB 827 kB/s eta 0:00:05"
     ]
    },
    {
     "name": "stdout",
     "output_type": "stream",
     "text": [
      "\r",
      "\u001b[K     |████████████████████████        | 10.2 MB 827 kB/s eta 0:00:05\r",
      "\u001b[K     |████████████████████████        | 10.2 MB 827 kB/s eta 0:00:05\r",
      "\u001b[K     |████████████████████████        | 10.3 MB 827 kB/s eta 0:00:05\r",
      "\u001b[K     |████████████████████████        | 10.3 MB 827 kB/s eta 0:00:05\r",
      "\u001b[K     |████████████████████████▏       | 10.3 MB 827 kB/s eta 0:00:05\r",
      "\u001b[K     |████████████████████████▏       | 10.3 MB 827 kB/s eta 0:00:05\r",
      "\u001b[K     |████████████████████████▏       | 10.3 MB 827 kB/s eta 0:00:05\r",
      "\u001b[K     |████████████████████████▏       | 10.3 MB 827 kB/s eta 0:00:05\r",
      "\u001b[K     |████████████████████████▎       | 10.3 MB 827 kB/s eta 0:00:04\r",
      "\u001b[K     |████████████████████████▎       | 10.3 MB 827 kB/s eta 0:00:04\r",
      "\u001b[K     |████████████████████████▎       | 10.3 MB 827 kB/s eta 0:00:04\r",
      "\u001b[K     |████████████████████████▎       | 10.3 MB 827 kB/s eta 0:00:04\r",
      "\u001b[K     |████████████████████████▎       | 10.4 MB 827 kB/s eta 0:00:04\r",
      "\u001b[K     |████████████████████████▍       | 10.4 MB 827 kB/s eta 0:00:04\r",
      "\u001b[K     |████████████████████████▍       | 10.4 MB 827 kB/s eta 0:00:04\r",
      "\u001b[K     |████████████████████████▍       | 10.4 MB 827 kB/s eta 0:00:04\r",
      "\u001b[K     |████████████████████████▍       | 10.4 MB 827 kB/s eta 0:00:04\r",
      "\u001b[K     |████████████████████████▍       | 10.4 MB 827 kB/s eta 0:00:04\r",
      "\u001b[K     |████████████████████████▌       | 10.4 MB 827 kB/s eta 0:00:04\r",
      "\u001b[K     |████████████████████████▌       | 10.4 MB 827 kB/s eta 0:00:04\r",
      "\u001b[K     |████████████████████████▌       | 10.4 MB 827 kB/s eta 0:00:04\r",
      "\u001b[K     |████████████████████████▌       | 10.4 MB 827 kB/s eta 0:00:04\r",
      "\u001b[K     |████████████████████████▋       | 10.5 MB 827 kB/s eta 0:00:04\r",
      "\u001b[K     |████████████████████████▋       | 10.5 MB 827 kB/s eta 0:00:04\r",
      "\u001b[K     |████████████████████████▋       | 10.5 MB 827 kB/s eta 0:00:04\r",
      "\u001b[K     |████████████████████████▋       | 10.5 MB 827 kB/s eta 0:00:04\r",
      "\u001b[K     |████████████████████████▋       | 10.5 MB 827 kB/s eta 0:00:04\r",
      "\u001b[K     |████████████████████████▊       | 10.5 MB 827 kB/s eta 0:00:04\r",
      "\u001b[K     |████████████████████████▊       | 10.5 MB 827 kB/s eta 0:00:04\r",
      "\u001b[K     |████████████████████████▊       | 10.5 MB 827 kB/s eta 0:00:04\r",
      "\u001b[K     |████████████████████████▊       | 10.5 MB 827 kB/s eta 0:00:04\r",
      "\u001b[K     |████████████████████████▊       | 10.5 MB 827 kB/s eta 0:00:04\r",
      "\u001b[K     |████████████████████████▉       | 10.6 MB 827 kB/s eta 0:00:04\r",
      "\u001b[K     |████████████████████████▉       | 10.6 MB 827 kB/s eta 0:00:04\r",
      "\u001b[K     |████████████████████████▉       | 10.6 MB 827 kB/s eta 0:00:04\r",
      "\u001b[K     |████████████████████████▉       | 10.6 MB 827 kB/s eta 0:00:04\r",
      "\u001b[K     |█████████████████████████       | 10.6 MB 827 kB/s eta 0:00:04\r",
      "\u001b[K     |█████████████████████████       | 10.6 MB 827 kB/s eta 0:00:04\r",
      "\u001b[K     |█████████████████████████       | 10.6 MB 827 kB/s eta 0:00:04\r",
      "\u001b[K     |█████████████████████████       | 10.6 MB 827 kB/s eta 0:00:04\r",
      "\u001b[K     |█████████████████████████       | 10.6 MB 827 kB/s eta 0:00:04\r",
      "\u001b[K     |█████████████████████████       | 10.6 MB 827 kB/s eta 0:00:04\r",
      "\u001b[K     |█████████████████████████       | 10.7 MB 827 kB/s eta 0:00:04\r",
      "\u001b[K     |█████████████████████████       | 10.7 MB 827 kB/s eta 0:00:04\r",
      "\u001b[K     |█████████████████████████       | 10.7 MB 827 kB/s eta 0:00:04\r",
      "\u001b[K     |█████████████████████████▏      | 10.7 MB 827 kB/s eta 0:00:04\r",
      "\u001b[K     |█████████████████████████▏      | 10.7 MB 827 kB/s eta 0:00:04\r",
      "\u001b[K     |█████████████████████████▏      | 10.7 MB 827 kB/s eta 0:00:04\r",
      "\u001b[K     |█████████████████████████▏      | 10.7 MB 827 kB/s eta 0:00:04\r",
      "\u001b[K     |█████████████████████████▏      | 10.7 MB 827 kB/s eta 0:00:04\r",
      "\u001b[K     |█████████████████████████▎      | 10.7 MB 827 kB/s eta 0:00:04\r",
      "\u001b[K     |█████████████████████████▎      | 10.8 MB 827 kB/s eta 0:00:04\r",
      "\u001b[K     |█████████████████████████▎      | 10.8 MB 827 kB/s eta 0:00:04\r",
      "\u001b[K     |█████████████████████████▎      | 10.8 MB 827 kB/s eta 0:00:04\r",
      "\u001b[K     |█████████████████████████▎      | 10.8 MB 827 kB/s eta 0:00:04\r",
      "\u001b[K     |█████████████████████████▍      | 10.8 MB 827 kB/s eta 0:00:04\r",
      "\u001b[K     |█████████████████████████▍      | 10.8 MB 827 kB/s eta 0:00:04\r",
      "\u001b[K     |█████████████████████████▍      | 10.8 MB 827 kB/s eta 0:00:04\r",
      "\u001b[K     |█████████████████████████▍      | 10.8 MB 827 kB/s eta 0:00:04\r",
      "\u001b[K     |█████████████████████████▌      | 10.8 MB 827 kB/s eta 0:00:04\r",
      "\u001b[K     |█████████████████████████▌      | 10.8 MB 827 kB/s eta 0:00:04\r",
      "\u001b[K     |█████████████████████████▌      | 10.9 MB 827 kB/s eta 0:00:04"
     ]
    },
    {
     "name": "stdout",
     "output_type": "stream",
     "text": [
      "\r",
      "\u001b[K     |█████████████████████████▌      | 10.9 MB 827 kB/s eta 0:00:04\r",
      "\u001b[K     |█████████████████████████▌      | 10.9 MB 827 kB/s eta 0:00:04\r",
      "\u001b[K     |█████████████████████████▋      | 10.9 MB 827 kB/s eta 0:00:04\r",
      "\u001b[K     |█████████████████████████▋      | 10.9 MB 827 kB/s eta 0:00:04\r",
      "\u001b[K     |█████████████████████████▋      | 10.9 MB 827 kB/s eta 0:00:04\r",
      "\u001b[K     |█████████████████████████▋      | 10.9 MB 827 kB/s eta 0:00:04\r",
      "\u001b[K     |█████████████████████████▋      | 10.9 MB 827 kB/s eta 0:00:04\r",
      "\u001b[K     |█████████████████████████▊      | 10.9 MB 827 kB/s eta 0:00:04\r",
      "\u001b[K     |█████████████████████████▊      | 10.9 MB 827 kB/s eta 0:00:04\r",
      "\u001b[K     |█████████████████████████▊      | 11.0 MB 827 kB/s eta 0:00:04\r",
      "\u001b[K     |█████████████████████████▊      | 11.0 MB 827 kB/s eta 0:00:04\r",
      "\u001b[K     |█████████████████████████▉      | 11.0 MB 827 kB/s eta 0:00:04\r",
      "\u001b[K     |█████████████████████████▉      | 11.0 MB 827 kB/s eta 0:00:04\r",
      "\u001b[K     |█████████████████████████▉      | 11.0 MB 827 kB/s eta 0:00:04\r",
      "\u001b[K     |█████████████████████████▉      | 11.0 MB 827 kB/s eta 0:00:04\r",
      "\u001b[K     |█████████████████████████▉      | 11.0 MB 827 kB/s eta 0:00:04\r",
      "\u001b[K     |██████████████████████████      | 11.0 MB 827 kB/s eta 0:00:04\r",
      "\u001b[K     |██████████████████████████      | 11.0 MB 827 kB/s eta 0:00:04\r",
      "\u001b[K     |██████████████████████████      | 11.0 MB 827 kB/s eta 0:00:04\r",
      "\u001b[K     |██████████████████████████      | 11.1 MB 827 kB/s eta 0:00:04\r",
      "\u001b[K     |██████████████████████████      | 11.1 MB 827 kB/s eta 0:00:04\r",
      "\u001b[K     |██████████████████████████      | 11.1 MB 827 kB/s eta 0:00:04\r",
      "\u001b[K     |██████████████████████████      | 11.1 MB 827 kB/s eta 0:00:04\r",
      "\u001b[K     |██████████████████████████      | 11.1 MB 827 kB/s eta 0:00:04\r",
      "\u001b[K     |██████████████████████████      | 11.1 MB 827 kB/s eta 0:00:04\r",
      "\u001b[K     |██████████████████████████▏     | 11.1 MB 827 kB/s eta 0:00:04\r",
      "\u001b[K     |██████████████████████████▏     | 11.1 MB 827 kB/s eta 0:00:04\r",
      "\u001b[K     |██████████████████████████▏     | 11.1 MB 827 kB/s eta 0:00:03\r",
      "\u001b[K     |██████████████████████████▏     | 11.2 MB 827 kB/s eta 0:00:03\r",
      "\u001b[K     |██████████████████████████▏     | 11.2 MB 827 kB/s eta 0:00:03\r",
      "\u001b[K     |██████████████████████████▎     | 11.2 MB 827 kB/s eta 0:00:03\r",
      "\u001b[K     |██████████████████████████▎     | 11.2 MB 827 kB/s eta 0:00:03\r",
      "\u001b[K     |██████████████████████████▎     | 11.2 MB 827 kB/s eta 0:00:03\r",
      "\u001b[K     |██████████████████████████▎     | 11.2 MB 827 kB/s eta 0:00:03\r",
      "\u001b[K     |██████████████████████████▍     | 11.2 MB 827 kB/s eta 0:00:03\r",
      "\u001b[K     |██████████████████████████▍     | 11.2 MB 827 kB/s eta 0:00:03\r",
      "\u001b[K     |██████████████████████████▍     | 11.2 MB 827 kB/s eta 0:00:03\r",
      "\u001b[K     |██████████████████████████▍     | 11.2 MB 827 kB/s eta 0:00:03\r",
      "\u001b[K     |██████████████████████████▍     | 11.3 MB 827 kB/s eta 0:00:03\r",
      "\u001b[K     |██████████████████████████▌     | 11.3 MB 827 kB/s eta 0:00:03\r",
      "\u001b[K     |██████████████████████████▌     | 11.3 MB 827 kB/s eta 0:00:03"
     ]
    },
    {
     "name": "stdout",
     "output_type": "stream",
     "text": [
      "\r",
      "\u001b[K     |██████████████████████████▌     | 11.3 MB 827 kB/s eta 0:00:03\r",
      "\u001b[K     |██████████████████████████▌     | 11.3 MB 827 kB/s eta 0:00:03\r",
      "\u001b[K     |██████████████████████████▋     | 11.3 MB 827 kB/s eta 0:00:03\r",
      "\u001b[K     |██████████████████████████▋     | 11.3 MB 827 kB/s eta 0:00:03\r",
      "\u001b[K     |██████████████████████████▋     | 11.3 MB 827 kB/s eta 0:00:03\r",
      "\u001b[K     |██████████████████████████▋     | 11.3 MB 827 kB/s eta 0:00:03\r",
      "\u001b[K     |██████████████████████████▋     | 11.3 MB 827 kB/s eta 0:00:03\r",
      "\u001b[K     |██████████████████████████▊     | 11.4 MB 827 kB/s eta 0:00:03\r",
      "\u001b[K     |██████████████████████████▊     | 11.4 MB 827 kB/s eta 0:00:03\r",
      "\u001b[K     |██████████████████████████▊     | 11.4 MB 827 kB/s eta 0:00:03\r",
      "\u001b[K     |██████████████████████████▊     | 11.4 MB 827 kB/s eta 0:00:03\r",
      "\u001b[K     |██████████████████████████▊     | 11.4 MB 827 kB/s eta 0:00:03\r",
      "\u001b[K     |██████████████████████████▉     | 11.4 MB 827 kB/s eta 0:00:03\r",
      "\u001b[K     |██████████████████████████▉     | 11.4 MB 827 kB/s eta 0:00:03\r",
      "\u001b[K     |██████████████████████████▉     | 11.4 MB 827 kB/s eta 0:00:03\r",
      "\u001b[K     |██████████████████████████▉     | 11.4 MB 827 kB/s eta 0:00:03\r",
      "\u001b[K     |███████████████████████████     | 11.4 MB 827 kB/s eta 0:00:03\r",
      "\u001b[K     |███████████████████████████     | 11.5 MB 827 kB/s eta 0:00:03\r",
      "\u001b[K     |███████████████████████████     | 11.5 MB 827 kB/s eta 0:00:03\r",
      "\u001b[K     |███████████████████████████     | 11.5 MB 827 kB/s eta 0:00:03\r",
      "\u001b[K     |███████████████████████████     | 11.5 MB 827 kB/s eta 0:00:03\r",
      "\u001b[K     |███████████████████████████     | 11.5 MB 827 kB/s eta 0:00:03\r",
      "\u001b[K     |███████████████████████████     | 11.5 MB 827 kB/s eta 0:00:03\r",
      "\u001b[K     |███████████████████████████     | 11.5 MB 827 kB/s eta 0:00:03\r",
      "\u001b[K     |███████████████████████████     | 11.5 MB 827 kB/s eta 0:00:03\r",
      "\u001b[K     |███████████████████████████     | 11.5 MB 827 kB/s eta 0:00:03\r",
      "\u001b[K     |███████████████████████████▏    | 11.6 MB 827 kB/s eta 0:00:03\r",
      "\u001b[K     |███████████████████████████▏    | 11.6 MB 827 kB/s eta 0:00:03\r",
      "\u001b[K     |███████████████████████████▏    | 11.6 MB 827 kB/s eta 0:00:03\r",
      "\u001b[K     |███████████████████████████▏    | 11.6 MB 827 kB/s eta 0:00:03\r",
      "\u001b[K     |███████████████████████████▎    | 11.6 MB 827 kB/s eta 0:00:03\r",
      "\u001b[K     |███████████████████████████▎    | 11.6 MB 827 kB/s eta 0:00:03\r",
      "\u001b[K     |███████████████████████████▎    | 11.6 MB 827 kB/s eta 0:00:03\r",
      "\u001b[K     |███████████████████████████▎    | 11.6 MB 827 kB/s eta 0:00:03\r",
      "\u001b[K     |███████████████████████████▎    | 11.6 MB 827 kB/s eta 0:00:03\r",
      "\u001b[K     |███████████████████████████▍    | 11.6 MB 827 kB/s eta 0:00:03\r",
      "\u001b[K     |███████████████████████████▍    | 11.7 MB 827 kB/s eta 0:00:03\r",
      "\u001b[K     |███████████████████████████▍    | 11.7 MB 827 kB/s eta 0:00:03\r",
      "\u001b[K     |███████████████████████████▍    | 11.7 MB 827 kB/s eta 0:00:03"
     ]
    },
    {
     "name": "stdout",
     "output_type": "stream",
     "text": [
      "\r",
      "\u001b[K     |███████████████████████████▌    | 11.7 MB 827 kB/s eta 0:00:03\r",
      "\u001b[K     |███████████████████████████▌    | 11.7 MB 827 kB/s eta 0:00:03\r",
      "\u001b[K     |███████████████████████████▌    | 11.7 MB 827 kB/s eta 0:00:03\r",
      "\u001b[K     |███████████████████████████▌    | 11.7 MB 827 kB/s eta 0:00:03\r",
      "\u001b[K     |███████████████████████████▌    | 11.7 MB 827 kB/s eta 0:00:03\r",
      "\u001b[K     |███████████████████████████▋    | 11.7 MB 827 kB/s eta 0:00:03\r",
      "\u001b[K     |███████████████████████████▋    | 11.7 MB 827 kB/s eta 0:00:03\r",
      "\u001b[K     |███████████████████████████▋    | 11.8 MB 827 kB/s eta 0:00:03\r",
      "\u001b[K     |███████████████████████████▋    | 11.8 MB 827 kB/s eta 0:00:03\r",
      "\u001b[K     |███████████████████████████▋    | 11.8 MB 827 kB/s eta 0:00:03\r",
      "\u001b[K     |███████████████████████████▊    | 11.8 MB 827 kB/s eta 0:00:03\r",
      "\u001b[K     |███████████████████████████▊    | 11.8 MB 827 kB/s eta 0:00:03\r",
      "\u001b[K     |███████████████████████████▊    | 11.8 MB 827 kB/s eta 0:00:03\r",
      "\u001b[K     |███████████████████████████▊    | 11.8 MB 827 kB/s eta 0:00:03\r",
      "\u001b[K     |███████████████████████████▉    | 11.8 MB 827 kB/s eta 0:00:03\r",
      "\u001b[K     |███████████████████████████▉    | 11.8 MB 827 kB/s eta 0:00:03\r",
      "\u001b[K     |███████████████████████████▉    | 11.8 MB 827 kB/s eta 0:00:03\r",
      "\u001b[K     |███████████████████████████▉    | 11.9 MB 827 kB/s eta 0:00:03\r",
      "\u001b[K     |███████████████████████████▉    | 11.9 MB 827 kB/s eta 0:00:03\r",
      "\u001b[K     |████████████████████████████    | 11.9 MB 827 kB/s eta 0:00:03\r",
      "\u001b[K     |████████████████████████████    | 11.9 MB 827 kB/s eta 0:00:03\r",
      "\u001b[K     |████████████████████████████    | 11.9 MB 827 kB/s eta 0:00:03\r",
      "\u001b[K     |████████████████████████████    | 11.9 MB 827 kB/s eta 0:00:03\r",
      "\u001b[K     |████████████████████████████    | 11.9 MB 827 kB/s eta 0:00:03\r",
      "\u001b[K     |████████████████████████████    | 11.9 MB 827 kB/s eta 0:00:03\r",
      "\u001b[K     |████████████████████████████    | 11.9 MB 827 kB/s eta 0:00:03\r",
      "\u001b[K     |████████████████████████████    | 12.0 MB 827 kB/s eta 0:00:03\r",
      "\u001b[K     |████████████████████████████    | 12.0 MB 827 kB/s eta 0:00:03\r",
      "\u001b[K     |████████████████████████████▏   | 12.0 MB 827 kB/s eta 0:00:02\r",
      "\u001b[K     |████████████████████████████▏   | 12.0 MB 827 kB/s eta 0:00:02\r",
      "\u001b[K     |████████████████████████████▏   | 12.0 MB 827 kB/s eta 0:00:02\r",
      "\u001b[K     |████████████████████████████▏   | 12.0 MB 827 kB/s eta 0:00:02\r",
      "\u001b[K     |████████████████████████████▏   | 12.0 MB 827 kB/s eta 0:00:02\r",
      "\u001b[K     |████████████████████████████▎   | 12.0 MB 827 kB/s eta 0:00:02\r",
      "\u001b[K     |████████████████████████████▎   | 12.0 MB 827 kB/s eta 0:00:02\r",
      "\u001b[K     |████████████████████████████▎   | 12.0 MB 827 kB/s eta 0:00:02\r",
      "\u001b[K     |████████████████████████████▎   | 12.1 MB 827 kB/s eta 0:00:02\r",
      "\u001b[K     |████████████████████████████▍   | 12.1 MB 827 kB/s eta 0:00:02\r",
      "\u001b[K     |████████████████████████████▍   | 12.1 MB 827 kB/s eta 0:00:02\r",
      "\u001b[K     |████████████████████████████▍   | 12.1 MB 827 kB/s eta 0:00:02\r",
      "\u001b[K     |████████████████████████████▍   | 12.1 MB 827 kB/s eta 0:00:02\r",
      "\u001b[K     |████████████████████████████▍   | 12.1 MB 827 kB/s eta 0:00:02\r",
      "\u001b[K     |████████████████████████████▌   | 12.1 MB 827 kB/s eta 0:00:02\r",
      "\u001b[K     |████████████████████████████▌   | 12.1 MB 827 kB/s eta 0:00:02\r",
      "\u001b[K     |████████████████████████████▌   | 12.1 MB 827 kB/s eta 0:00:02\r",
      "\u001b[K     |████████████████████████████▌   | 12.1 MB 827 kB/s eta 0:00:02\r",
      "\u001b[K     |████████████████████████████▌   | 12.2 MB 827 kB/s eta 0:00:02\r",
      "\u001b[K     |████████████████████████████▋   | 12.2 MB 827 kB/s eta 0:00:02\r",
      "\u001b[K     |████████████████████████████▋   | 12.2 MB 827 kB/s eta 0:00:02\r",
      "\u001b[K     |████████████████████████████▋   | 12.2 MB 827 kB/s eta 0:00:02\r",
      "\u001b[K     |████████████████████████████▋   | 12.2 MB 827 kB/s eta 0:00:02\r",
      "\u001b[K     |████████████████████████████▊   | 12.2 MB 827 kB/s eta 0:00:02\r",
      "\u001b[K     |████████████████████████████▊   | 12.2 MB 827 kB/s eta 0:00:02\r",
      "\u001b[K     |████████████████████████████▊   | 12.2 MB 827 kB/s eta 0:00:02\r",
      "\u001b[K     |████████████████████████████▊   | 12.2 MB 827 kB/s eta 0:00:02\r",
      "\u001b[K     |████████████████████████████▊   | 12.2 MB 827 kB/s eta 0:00:02\r",
      "\u001b[K     |████████████████████████████▉   | 12.3 MB 827 kB/s eta 0:00:02\r",
      "\u001b[K     |████████████████████████████▉   | 12.3 MB 827 kB/s eta 0:00:02\r",
      "\u001b[K     |████████████████████████████▉   | 12.3 MB 827 kB/s eta 0:00:02\r",
      "\u001b[K     |████████████████████████████▉   | 12.3 MB 827 kB/s eta 0:00:02\r",
      "\u001b[K     |█████████████████████████████   | 12.3 MB 827 kB/s eta 0:00:02\r",
      "\u001b[K     |█████████████████████████████   | 12.3 MB 827 kB/s eta 0:00:02\r",
      "\u001b[K     |█████████████████████████████   | 12.3 MB 827 kB/s eta 0:00:02\r",
      "\u001b[K     |█████████████████████████████   | 12.3 MB 827 kB/s eta 0:00:02"
     ]
    },
    {
     "name": "stdout",
     "output_type": "stream",
     "text": [
      "\r",
      "\u001b[K     |█████████████████████████████   | 12.3 MB 827 kB/s eta 0:00:02\r",
      "\u001b[K     |█████████████████████████████   | 12.3 MB 827 kB/s eta 0:00:02\r",
      "\u001b[K     |█████████████████████████████   | 12.4 MB 827 kB/s eta 0:00:02\r",
      "\u001b[K     |█████████████████████████████   | 12.4 MB 827 kB/s eta 0:00:02\r",
      "\u001b[K     |█████████████████████████████   | 12.4 MB 827 kB/s eta 0:00:02\r",
      "\u001b[K     |█████████████████████████████   | 12.4 MB 827 kB/s eta 0:00:02\r",
      "\u001b[K     |█████████████████████████████▏  | 12.4 MB 827 kB/s eta 0:00:02\r",
      "\u001b[K     |█████████████████████████████▏  | 12.4 MB 827 kB/s eta 0:00:02\r",
      "\u001b[K     |█████████████████████████████▏  | 12.4 MB 827 kB/s eta 0:00:02\r",
      "\u001b[K     |█████████████████████████████▏  | 12.4 MB 827 kB/s eta 0:00:02\r",
      "\u001b[K     |█████████████████████████████▎  | 12.4 MB 827 kB/s eta 0:00:02\r",
      "\u001b[K     |█████████████████████████████▎  | 12.5 MB 827 kB/s eta 0:00:02\r",
      "\u001b[K     |█████████████████████████████▎  | 12.5 MB 827 kB/s eta 0:00:02\r",
      "\u001b[K     |█████████████████████████████▎  | 12.5 MB 827 kB/s eta 0:00:02\r",
      "\u001b[K     |█████████████████████████████▎  | 12.5 MB 827 kB/s eta 0:00:02\r",
      "\u001b[K     |█████████████████████████████▍  | 12.5 MB 827 kB/s eta 0:00:02\r",
      "\u001b[K     |█████████████████████████████▍  | 12.5 MB 827 kB/s eta 0:00:02\r",
      "\u001b[K     |█████████████████████████████▍  | 12.5 MB 827 kB/s eta 0:00:02\r",
      "\u001b[K     |█████████████████████████████▍  | 12.5 MB 827 kB/s eta 0:00:02\r",
      "\u001b[K     |█████████████████████████████▍  | 12.5 MB 827 kB/s eta 0:00:02\r",
      "\u001b[K     |█████████████████████████████▌  | 12.5 MB 827 kB/s eta 0:00:02\r",
      "\u001b[K     |█████████████████████████████▌  | 12.6 MB 827 kB/s eta 0:00:02\r",
      "\u001b[K     |█████████████████████████████▌  | 12.6 MB 827 kB/s eta 0:00:02\r",
      "\u001b[K     |█████████████████████████████▌  | 12.6 MB 827 kB/s eta 0:00:02\r",
      "\u001b[K     |█████████████████████████████▋  | 12.6 MB 827 kB/s eta 0:00:02\r",
      "\u001b[K     |█████████████████████████████▋  | 12.6 MB 827 kB/s eta 0:00:02\r",
      "\u001b[K     |█████████████████████████████▋  | 12.6 MB 827 kB/s eta 0:00:02\r",
      "\u001b[K     |█████████████████████████████▋  | 12.6 MB 827 kB/s eta 0:00:02\r",
      "\u001b[K     |█████████████████████████████▋  | 12.6 MB 827 kB/s eta 0:00:02\r",
      "\u001b[K     |█████████████████████████████▊  | 12.6 MB 827 kB/s eta 0:00:02\r",
      "\u001b[K     |█████████████████████████████▊  | 12.6 MB 827 kB/s eta 0:00:02\r",
      "\u001b[K     |█████████████████████████████▊  | 12.7 MB 827 kB/s eta 0:00:02\r",
      "\u001b[K     |█████████████████████████████▊  | 12.7 MB 827 kB/s eta 0:00:02\r",
      "\u001b[K     |█████████████████████████████▉  | 12.7 MB 827 kB/s eta 0:00:02\r",
      "\u001b[K     |█████████████████████████████▉  | 12.7 MB 827 kB/s eta 0:00:02\r",
      "\u001b[K     |█████████████████████████████▉  | 12.7 MB 827 kB/s eta 0:00:02\r",
      "\u001b[K     |█████████████████████████████▉  | 12.7 MB 827 kB/s eta 0:00:02\r",
      "\u001b[K     |█████████████████████████████▉  | 12.7 MB 827 kB/s eta 0:00:02\r",
      "\u001b[K     |██████████████████████████████  | 12.7 MB 827 kB/s eta 0:00:02\r",
      "\u001b[K     |██████████████████████████████  | 12.7 MB 827 kB/s eta 0:00:02\r",
      "\u001b[K     |██████████████████████████████  | 12.7 MB 827 kB/s eta 0:00:02\r",
      "\u001b[K     |██████████████████████████████  | 12.8 MB 827 kB/s eta 0:00:02\r",
      "\u001b[K     |██████████████████████████████  | 12.8 MB 827 kB/s eta 0:00:02\r",
      "\u001b[K     |██████████████████████████████  | 12.8 MB 827 kB/s eta 0:00:02\r",
      "\u001b[K     |██████████████████████████████  | 12.8 MB 827 kB/s eta 0:00:02\r",
      "\u001b[K     |██████████████████████████████  | 12.8 MB 827 kB/s eta 0:00:01\r",
      "\u001b[K     |██████████████████████████████  | 12.8 MB 827 kB/s eta 0:00:01\r",
      "\u001b[K     |██████████████████████████████▏ | 12.8 MB 827 kB/s eta 0:00:01\r",
      "\u001b[K     |██████████████████████████████▏ | 12.8 MB 827 kB/s eta 0:00:01\r",
      "\u001b[K     |██████████████████████████████▏ | 12.8 MB 827 kB/s eta 0:00:01\r",
      "\u001b[K     |██████████████████████████████▏ | 12.9 MB 827 kB/s eta 0:00:01\r",
      "\u001b[K     |██████████████████████████████▏ | 12.9 MB 827 kB/s eta 0:00:01\r",
      "\u001b[K     |██████████████████████████████▎ | 12.9 MB 827 kB/s eta 0:00:01\r",
      "\u001b[K     |██████████████████████████████▎ | 12.9 MB 827 kB/s eta 0:00:01\r",
      "\u001b[K     |██████████████████████████████▎ | 12.9 MB 827 kB/s eta 0:00:01\r",
      "\u001b[K     |██████████████████████████████▎ | 12.9 MB 827 kB/s eta 0:00:01\r",
      "\u001b[K     |██████████████████████████████▎ | 12.9 MB 827 kB/s eta 0:00:01\r",
      "\u001b[K     |██████████████████████████████▍ | 12.9 MB 827 kB/s eta 0:00:01\r",
      "\u001b[K     |██████████████████████████████▍ | 12.9 MB 827 kB/s eta 0:00:01\r",
      "\u001b[K     |██████████████████████████████▍ | 12.9 MB 827 kB/s eta 0:00:01\r",
      "\u001b[K     |██████████████████████████████▍ | 13.0 MB 827 kB/s eta 0:00:01\r",
      "\u001b[K     |██████████████████████████████▌ | 13.0 MB 827 kB/s eta 0:00:01\r",
      "\u001b[K     |██████████████████████████████▌ | 13.0 MB 827 kB/s eta 0:00:01\r",
      "\u001b[K     |██████████████████████████████▌ | 13.0 MB 827 kB/s eta 0:00:01\r",
      "\u001b[K     |██████████████████████████████▌ | 13.0 MB 827 kB/s eta 0:00:01\r",
      "\u001b[K     |██████████████████████████████▌ | 13.0 MB 827 kB/s eta 0:00:01\r",
      "\u001b[K     |██████████████████████████████▋ | 13.0 MB 827 kB/s eta 0:00:01\r",
      "\u001b[K     |██████████████████████████████▋ | 13.0 MB 827 kB/s eta 0:00:01\r",
      "\u001b[K     |██████████████████████████████▋ | 13.0 MB 827 kB/s eta 0:00:01"
     ]
    },
    {
     "name": "stdout",
     "output_type": "stream",
     "text": [
      "\r",
      "\u001b[K     |██████████████████████████████▋ | 13.0 MB 827 kB/s eta 0:00:01\r",
      "\u001b[K     |██████████████████████████████▊ | 13.1 MB 827 kB/s eta 0:00:01\r",
      "\u001b[K     |██████████████████████████████▊ | 13.1 MB 827 kB/s eta 0:00:01\r",
      "\u001b[K     |██████████████████████████████▊ | 13.1 MB 827 kB/s eta 0:00:01\r",
      "\u001b[K     |██████████████████████████████▊ | 13.1 MB 827 kB/s eta 0:00:01\r",
      "\u001b[K     |██████████████████████████████▊ | 13.1 MB 827 kB/s eta 0:00:01\r",
      "\u001b[K     |██████████████████████████████▉ | 13.1 MB 827 kB/s eta 0:00:01\r",
      "\u001b[K     |██████████████████████████████▉ | 13.1 MB 827 kB/s eta 0:00:01\r",
      "\u001b[K     |██████████████████████████████▉ | 13.1 MB 827 kB/s eta 0:00:01\r",
      "\u001b[K     |██████████████████████████████▉ | 13.1 MB 827 kB/s eta 0:00:01\r",
      "\u001b[K     |██████████████████████████████▉ | 13.1 MB 827 kB/s eta 0:00:01\r",
      "\u001b[K     |███████████████████████████████ | 13.2 MB 827 kB/s eta 0:00:01\r",
      "\u001b[K     |███████████████████████████████ | 13.2 MB 827 kB/s eta 0:00:01\r",
      "\u001b[K     |███████████████████████████████ | 13.2 MB 827 kB/s eta 0:00:01\r",
      "\u001b[K     |███████████████████████████████ | 13.2 MB 827 kB/s eta 0:00:01\r",
      "\u001b[K     |███████████████████████████████ | 13.2 MB 827 kB/s eta 0:00:01\r",
      "\u001b[K     |███████████████████████████████ | 13.2 MB 827 kB/s eta 0:00:01\r",
      "\u001b[K     |███████████████████████████████ | 13.2 MB 827 kB/s eta 0:00:01\r",
      "\u001b[K     |███████████████████████████████ | 13.2 MB 827 kB/s eta 0:00:01\r",
      "\u001b[K     |███████████████████████████████ | 13.2 MB 827 kB/s eta 0:00:01\r",
      "\u001b[K     |███████████████████████████████▏| 13.3 MB 827 kB/s eta 0:00:01\r",
      "\u001b[K     |███████████████████████████████▏| 13.3 MB 827 kB/s eta 0:00:01\r",
      "\u001b[K     |███████████████████████████████▏| 13.3 MB 827 kB/s eta 0:00:01\r",
      "\u001b[K     |███████████████████████████████▏| 13.3 MB 827 kB/s eta 0:00:01\r",
      "\u001b[K     |███████████████████████████████▏| 13.3 MB 827 kB/s eta 0:00:01\r",
      "\u001b[K     |███████████████████████████████▎| 13.3 MB 827 kB/s eta 0:00:01\r",
      "\u001b[K     |███████████████████████████████▎| 13.3 MB 827 kB/s eta 0:00:01\r",
      "\u001b[K     |███████████████████████████████▎| 13.3 MB 827 kB/s eta 0:00:01\r",
      "\u001b[K     |███████████████████████████████▎| 13.3 MB 827 kB/s eta 0:00:01\r",
      "\u001b[K     |███████████████████████████████▍| 13.3 MB 827 kB/s eta 0:00:01\r",
      "\u001b[K     |███████████████████████████████▍| 13.4 MB 827 kB/s eta 0:00:01\r",
      "\u001b[K     |███████████████████████████████▍| 13.4 MB 827 kB/s eta 0:00:01\r",
      "\u001b[K     |███████████████████████████████▍| 13.4 MB 827 kB/s eta 0:00:01\r",
      "\u001b[K     |███████████████████████████████▍| 13.4 MB 827 kB/s eta 0:00:01\r",
      "\u001b[K     |███████████████████████████████▌| 13.4 MB 827 kB/s eta 0:00:01\r",
      "\u001b[K     |███████████████████████████████▌| 13.4 MB 827 kB/s eta 0:00:01\r",
      "\u001b[K     |███████████████████████████████▌| 13.4 MB 827 kB/s eta 0:00:01\r",
      "\u001b[K     |███████████████████████████████▌| 13.4 MB 827 kB/s eta 0:00:01\r",
      "\u001b[K     |███████████████████████████████▋| 13.4 MB 827 kB/s eta 0:00:01\r",
      "\u001b[K     |███████████████████████████████▋| 13.4 MB 827 kB/s eta 0:00:01\r",
      "\u001b[K     |███████████████████████████████▋| 13.5 MB 827 kB/s eta 0:00:01\r",
      "\u001b[K     |███████████████████████████████▋| 13.5 MB 827 kB/s eta 0:00:01\r",
      "\u001b[K     |███████████████████████████████▋| 13.5 MB 827 kB/s eta 0:00:01\r",
      "\u001b[K     |███████████████████████████████▊| 13.5 MB 827 kB/s eta 0:00:01\r",
      "\u001b[K     |███████████████████████████████▊| 13.5 MB 827 kB/s eta 0:00:01\r",
      "\u001b[K     |███████████████████████████████▊| 13.5 MB 827 kB/s eta 0:00:01\r",
      "\u001b[K     |███████████████████████████████▊| 13.5 MB 827 kB/s eta 0:00:01\r",
      "\u001b[K     |███████████████████████████████▊| 13.5 MB 827 kB/s eta 0:00:01\r",
      "\u001b[K     |███████████████████████████████▉| 13.5 MB 827 kB/s eta 0:00:01\r",
      "\u001b[K     |███████████████████████████████▉| 13.5 MB 827 kB/s eta 0:00:01\r",
      "\u001b[K     |███████████████████████████████▉| 13.6 MB 827 kB/s eta 0:00:01\r",
      "\u001b[K     |███████████████████████████████▉| 13.6 MB 827 kB/s eta 0:00:01\r",
      "\u001b[K     |████████████████████████████████| 13.6 MB 827 kB/s eta 0:00:01\r",
      "\u001b[K     |████████████████████████████████| 13.6 MB 827 kB/s eta 0:00:01\r",
      "\u001b[K     |████████████████████████████████| 13.6 MB 827 kB/s eta 0:00:01\r",
      "\u001b[K     |████████████████████████████████| 13.6 MB 827 kB/s eta 0:00:01\r",
      "\u001b[K     |████████████████████████████████| 13.6 MB 827 kB/s eta 0:00:01"
     ]
    },
    {
     "name": "stdout",
     "output_type": "stream",
     "text": [
      "\r",
      "\u001b[K     |████████████████████████████████| 13.6 MB 827 kB/s \r\n",
      "\u001b[?25hRequirement already satisfied: spacy<3.2.0,>=3.1.0 in /home/khuyen/book/venv/lib/python3.8/site-packages (from en-core-web-sm==3.1.0) (3.1.2)\r\n"
     ]
    },
    {
     "name": "stdout",
     "output_type": "stream",
     "text": [
      "Requirement already satisfied: jinja2 in /home/khuyen/book/venv/lib/python3.8/site-packages (from spacy<3.2.0,>=3.1.0->en-core-web-sm==3.1.0) (3.0.1)\r\n",
      "Requirement already satisfied: wasabi<1.1.0,>=0.8.1 in /home/khuyen/book/venv/lib/python3.8/site-packages (from spacy<3.2.0,>=3.1.0->en-core-web-sm==3.1.0) (0.8.2)\r\n",
      "Requirement already satisfied: tqdm<5.0.0,>=4.38.0 in /home/khuyen/book/venv/lib/python3.8/site-packages (from spacy<3.2.0,>=3.1.0->en-core-web-sm==3.1.0) (4.62.2)\r\n",
      "Requirement already satisfied: requests<3.0.0,>=2.13.0 in /home/khuyen/book/venv/lib/python3.8/site-packages (from spacy<3.2.0,>=3.1.0->en-core-web-sm==3.1.0) (2.24.0)\r\n",
      "Requirement already satisfied: blis<0.8.0,>=0.4.0 in /home/khuyen/book/venv/lib/python3.8/site-packages (from spacy<3.2.0,>=3.1.0->en-core-web-sm==3.1.0) (0.7.4)\r\n",
      "Requirement already satisfied: packaging>=20.0 in /home/khuyen/book/venv/lib/python3.8/site-packages (from spacy<3.2.0,>=3.1.0->en-core-web-sm==3.1.0) (21.0)\r\n",
      "Requirement already satisfied: srsly<3.0.0,>=2.4.1 in /home/khuyen/book/venv/lib/python3.8/site-packages (from spacy<3.2.0,>=3.1.0->en-core-web-sm==3.1.0) (2.4.1)\r\n",
      "Requirement already satisfied: pathy>=0.3.5 in /home/khuyen/book/venv/lib/python3.8/site-packages (from spacy<3.2.0,>=3.1.0->en-core-web-sm==3.1.0) (0.6.0)\r\n",
      "Requirement already satisfied: catalogue<2.1.0,>=2.0.4 in /home/khuyen/book/venv/lib/python3.8/site-packages (from spacy<3.2.0,>=3.1.0->en-core-web-sm==3.1.0) (2.0.6)\r\n",
      "Requirement already satisfied: pydantic!=1.8,!=1.8.1,<1.9.0,>=1.7.4 in /home/khuyen/book/venv/lib/python3.8/site-packages (from spacy<3.2.0,>=3.1.0->en-core-web-sm==3.1.0) (1.8.2)\r\n",
      "Requirement already satisfied: typer<0.4.0,>=0.3.0 in /home/khuyen/book/venv/lib/python3.8/site-packages (from spacy<3.2.0,>=3.1.0->en-core-web-sm==3.1.0) (0.3.2)\r\n",
      "Requirement already satisfied: thinc<8.1.0,>=8.0.8 in /home/khuyen/book/venv/lib/python3.8/site-packages (from spacy<3.2.0,>=3.1.0->en-core-web-sm==3.1.0) (8.0.10)\r\n",
      "Requirement already satisfied: numpy>=1.15.0 in /home/khuyen/book/venv/lib/python3.8/site-packages (from spacy<3.2.0,>=3.1.0->en-core-web-sm==3.1.0) (1.19.5)\r\n",
      "Requirement already satisfied: cymem<2.1.0,>=2.0.2 in /home/khuyen/book/venv/lib/python3.8/site-packages (from spacy<3.2.0,>=3.1.0->en-core-web-sm==3.1.0) (2.0.5)\r\n",
      "Requirement already satisfied: murmurhash<1.1.0,>=0.28.0 in /home/khuyen/book/venv/lib/python3.8/site-packages (from spacy<3.2.0,>=3.1.0->en-core-web-sm==3.1.0) (1.0.5)\r\n",
      "Requirement already satisfied: setuptools in /home/khuyen/book/venv/lib/python3.8/site-packages (from spacy<3.2.0,>=3.1.0->en-core-web-sm==3.1.0) (44.0.0)\r\n",
      "Requirement already satisfied: spacy-legacy<3.1.0,>=3.0.7 in /home/khuyen/book/venv/lib/python3.8/site-packages (from spacy<3.2.0,>=3.1.0->en-core-web-sm==3.1.0) (3.0.8)\r\n",
      "Requirement already satisfied: preshed<3.1.0,>=3.0.2 in /home/khuyen/book/venv/lib/python3.8/site-packages (from spacy<3.2.0,>=3.1.0->en-core-web-sm==3.1.0) (3.0.5)\r\n",
      "Requirement already satisfied: pyparsing>=2.0.2 in /home/khuyen/book/venv/lib/python3.8/site-packages (from packaging>=20.0->spacy<3.2.0,>=3.1.0->en-core-web-sm==3.1.0) (2.4.7)\r\n",
      "Requirement already satisfied: smart-open<6.0.0,>=5.0.0 in /home/khuyen/book/venv/lib/python3.8/site-packages (from pathy>=0.3.5->spacy<3.2.0,>=3.1.0->en-core-web-sm==3.1.0) (5.2.1)\r\n",
      "Requirement already satisfied: typing-extensions>=3.7.4.3 in /home/khuyen/book/venv/lib/python3.8/site-packages (from pydantic!=1.8,!=1.8.1,<1.9.0,>=1.7.4->spacy<3.2.0,>=3.1.0->en-core-web-sm==3.1.0) (3.10.0.2)\r\n"
     ]
    },
    {
     "name": "stdout",
     "output_type": "stream",
     "text": [
      "Requirement already satisfied: chardet<4,>=3.0.2 in /home/khuyen/book/venv/lib/python3.8/site-packages (from requests<3.0.0,>=2.13.0->spacy<3.2.0,>=3.1.0->en-core-web-sm==3.1.0) (3.0.4)\r\n",
      "Requirement already satisfied: idna<3,>=2.5 in /home/khuyen/book/venv/lib/python3.8/site-packages (from requests<3.0.0,>=2.13.0->spacy<3.2.0,>=3.1.0->en-core-web-sm==3.1.0) (2.10)\r\n",
      "Requirement already satisfied: urllib3!=1.25.0,!=1.25.1,<1.26,>=1.21.1 in /home/khuyen/book/venv/lib/python3.8/site-packages (from requests<3.0.0,>=2.13.0->spacy<3.2.0,>=3.1.0->en-core-web-sm==3.1.0) (1.25.11)\r\n",
      "Requirement already satisfied: certifi>=2017.4.17 in /home/khuyen/book/venv/lib/python3.8/site-packages (from requests<3.0.0,>=2.13.0->spacy<3.2.0,>=3.1.0->en-core-web-sm==3.1.0) (2021.5.30)\r\n"
     ]
    },
    {
     "name": "stdout",
     "output_type": "stream",
     "text": [
      "Requirement already satisfied: click<7.2.0,>=7.1.1 in /home/khuyen/book/venv/lib/python3.8/site-packages (from typer<0.4.0,>=0.3.0->spacy<3.2.0,>=3.1.0->en-core-web-sm==3.1.0) (7.1.2)\r\n",
      "Requirement already satisfied: MarkupSafe>=2.0 in /home/khuyen/book/venv/lib/python3.8/site-packages (from jinja2->spacy<3.2.0,>=3.1.0->en-core-web-sm==3.1.0) (2.0.1)\r\n"
     ]
    },
    {
     "name": "stdout",
     "output_type": "stream",
     "text": [
      "\u001b[38;5;2m✔ Download and installation successful\u001b[0m\r\n",
      "You can now load the package via spacy.load('en_core_web_sm')\r\n"
     ]
    }
   ],
   "source": [
    "!python -m spacy download en_core_web_sm"
   ]
  },
  {
   "cell_type": "code",
   "execution_count": 9,
   "id": "946807e6",
   "metadata": {
    "ExecuteTime": {
     "end_time": "2021-09-12T12:24:20.087688Z",
     "start_time": "2021-09-12T12:24:13.167505Z"
    },
    "tags": [
     "hide-input"
    ]
   },
   "outputs": [
    {
     "name": "stdout",
     "output_type": "stream",
     "text": [
      "\u001b[0m\r\n",
      "\u001b[34m\u001b[1m  You can now view your Streamlit app in your browser.\u001b[0m\r\n",
      "\u001b[0m\r\n",
      "\u001b[34m  Local URL: \u001b[0m\u001b[1mhttp://localhost:8501\u001b[0m\r\n",
      "\u001b[34m  Network URL: \u001b[0m\u001b[1mhttp://192.168.1.90:8501\u001b[0m\r\n",
      "\u001b[0m\r\n"
     ]
    },
    {
     "name": "stdout",
     "output_type": "stream",
     "text": [
      "^C\r\n",
      "\u001b[34m  Stopping...\u001b[0m\r\n"
     ]
    }
   ],
   "source": [
    "!streamlit run streamlit_app.py"
   ]
  },
  {
   "cell_type": "markdown",
   "id": "eab5af25",
   "metadata": {},
   "source": [
    "Click the URL and you should see something like below:"
   ]
  },
  {
   "cell_type": "markdown",
   "id": "48bfc5a6",
   "metadata": {},
   "source": [
    "![image](streamlit_app.png)"
   ]
  },
  {
   "cell_type": "markdown",
   "id": "afc3e9d8",
   "metadata": {},
   "source": [
    "### textacy: Extract a Contiguous Sequence of 2 Words"
   ]
  },
  {
   "cell_type": "markdown",
   "id": "58061a0d",
   "metadata": {},
   "source": [
    "If you want to extract a contiguous sequence of 2 words, for example, 'data science', not 'data', what should you do? That is when the concept of extracting n-gram from text becomes useful.\n",
    "\n",
    "A really useful tool to easily extract n-gram with a specified number of words in the sequence is `textacy`. "
   ]
  },
  {
   "cell_type": "code",
   "execution_count": 17,
   "id": "8c714e6b",
   "metadata": {
    "ExecuteTime": {
     "end_time": "2021-09-12T01:12:52.794641Z",
     "start_time": "2021-09-12T01:12:51.502009Z"
    }
   },
   "outputs": [
    {
     "data": {
      "text/plain": [
       "Data science          1\n",
       "disciplinary field    1\n",
       "uses scientific       1\n",
       "scientific methods    1\n",
       "extract knowledge     1\n",
       "unstructured data     1\n",
       "dtype: int64"
      ]
     },
     "execution_count": 17,
     "metadata": {},
     "output_type": "execute_result"
    }
   ],
   "source": [
    "import pandas as pd \n",
    "import spacy \n",
    "from textacy.extract import ngrams\n",
    "\n",
    "nlp = spacy.load('en_core_web_sm')\n",
    "\n",
    "text = nlp('Data science is an inter-disciplinary field that uses'\n",
    "' scientific methods, processes, algorithms, and systme to extract'\n",
    "' knowledge and insights from many structural and unstructured data.')\n",
    "\n",
    "n_grams = 2 # contiguous sequence of a word\n",
    "min_freq = 1 # extract n -gram based on its frequency\n",
    "\n",
    "pd.Series([n.text for n in ngrams(text, n=n_grams, min_freq=1)]).value_counts()"
   ]
  },
  {
   "cell_type": "markdown",
   "id": "1f79601e",
   "metadata": {},
   "source": [
    "[Link to textacy](https://textacy.readthedocs.io/en/stable/quickstart.html#working-with-text)"
   ]
  },
  {
   "cell_type": "markdown",
   "id": "2d842a95",
   "metadata": {},
   "source": [
    "### difflib: Detect The “Almost Similar” Articles"
   ]
  },
  {
   "cell_type": "markdown",
   "id": "ef2481c5",
   "metadata": {},
   "source": [
    "When analyzing articles, different articles can be almost similar but not 100% identical, maybe because of the grammar, or because of the change in two or three words (such as cross-posting). How can we detect the “almost similar” articles and drop one of them? That is when `difflib.SequenceMatcher` comes in handy. "
   ]
  },
  {
   "cell_type": "code",
   "execution_count": 19,
   "id": "31ec7511",
   "metadata": {
    "ExecuteTime": {
     "end_time": "2021-09-12T01:15:08.678941Z",
     "start_time": "2021-09-12T01:15:08.670108Z"
    }
   },
   "outputs": [
    {
     "name": "stdout",
     "output_type": "stream",
     "text": [
      "0.9523809523809523\n"
     ]
    }
   ],
   "source": [
    "from difflib import SequenceMatcher\n",
    "\n",
    "text1 = 'I am Khuyen'\n",
    "text2 = 'I am Khuen'\n",
    "print(SequenceMatcher(a=text1, b=text2).ratio())"
   ]
  },
  {
   "cell_type": "markdown",
   "id": "2b6c5051",
   "metadata": {},
   "source": [
    "### Convert Number to Words\n"
   ]
  },
  {
   "cell_type": "markdown",
   "id": "a1c155ee",
   "metadata": {},
   "source": [
    "If there are both number 105 and the words ‘one hundred and five’ in a text, they should deliver the same meaning. How can we map 105 to ‘one hundred and five’? There is a Python libary to convert number to words called `num2words`."
   ]
  },
  {
   "cell_type": "code",
   "execution_count": 21,
   "id": "f2885083",
   "metadata": {
    "ExecuteTime": {
     "end_time": "2021-09-12T01:17:44.525617Z",
     "start_time": "2021-09-12T01:17:44.463076Z"
    }
   },
   "outputs": [
    {
     "data": {
      "text/plain": [
       "'one hundred and five'"
      ]
     },
     "execution_count": 21,
     "metadata": {},
     "output_type": "execute_result"
    }
   ],
   "source": [
    "from num2words import num2words\n",
    "\n",
    "num2words(105)"
   ]
  },
  {
   "cell_type": "code",
   "execution_count": 22,
   "id": "b1de861f",
   "metadata": {
    "ExecuteTime": {
     "end_time": "2021-09-12T01:17:53.134501Z",
     "start_time": "2021-09-12T01:17:53.126101Z"
    }
   },
   "outputs": [
    {
     "data": {
      "text/plain": [
       "'one hundred and fifth'"
      ]
     },
     "execution_count": 22,
     "metadata": {},
     "output_type": "execute_result"
    }
   ],
   "source": [
    "num2words(105, to='ordinal')"
   ]
  },
  {
   "cell_type": "markdown",
   "id": "e526e210",
   "metadata": {},
   "source": [
    "The library can also generate ordinal numbers and support multiple languages! "
   ]
  },
  {
   "cell_type": "code",
   "execution_count": 23,
   "id": "45a1ee24",
   "metadata": {
    "ExecuteTime": {
     "end_time": "2021-09-12T01:18:04.781863Z",
     "start_time": "2021-09-12T01:18:04.774405Z"
    }
   },
   "outputs": [
    {
     "name": "stdout",
     "output_type": "stream",
     "text": [
      "một trăm lẻ năm\n"
     ]
    }
   ],
   "source": [
    "num2words(105, lang='vi')"
   ]
  },
  {
   "cell_type": "code",
   "execution_count": 25,
   "id": "f014171a",
   "metadata": {
    "ExecuteTime": {
     "end_time": "2021-09-12T01:18:29.030052Z",
     "start_time": "2021-09-12T01:18:29.022006Z"
    }
   },
   "outputs": [
    {
     "data": {
      "text/plain": [
       "'ciento cinco'"
      ]
     },
     "execution_count": 25,
     "metadata": {},
     "output_type": "execute_result"
    }
   ],
   "source": [
    "num2words(105, lang='es')"
   ]
  },
  {
   "cell_type": "markdown",
   "id": "61aa1e4c",
   "metadata": {},
   "source": [
    "[Link to num2words](https://github.com/savoirfairelinux/num2words)."
   ]
  },
  {
   "cell_type": "markdown",
   "id": "c52269ea",
   "metadata": {},
   "source": [
    "### texthero.clean: Preprocess Text in One Line of Code"
   ]
  },
  {
   "cell_type": "markdown",
   "id": "bd82acae",
   "metadata": {},
   "source": [
    "If you want to preprocess text in one line of code, try texthero. The `texthero.clean` method will:\n",
    "\n",
    "- fill missing values\n",
    "- convert upper case to lower case\n",
    "- remove digits\n",
    "- remove punctuation\n",
    "- remove stopwords\n",
    "- remove whitespace\n",
    "\n",
    "The code below shows an example of `texthero.clean`."
   ]
  },
  {
   "cell_type": "code",
   "execution_count": 27,
   "id": "d85d33e8",
   "metadata": {
    "ExecuteTime": {
     "end_time": "2021-09-12T01:20:58.147789Z",
     "start_time": "2021-09-12T01:20:57.533270Z"
    }
   },
   "outputs": [
    {
     "data": {
      "text/plain": [
       "0    today beautiful day\n",
       "1             ducks pond\n",
       "2                   cool\n",
       "3                       \n",
       "Name: text, dtype: object"
      ]
     },
     "execution_count": 27,
     "metadata": {},
     "output_type": "execute_result"
    }
   ],
   "source": [
    "import numpy as np\n",
    "import pandas as pd\n",
    "import texthero as hero\n",
    "\n",
    "df = pd.DataFrame(\n",
    "    {\n",
    "        \"text\": [\n",
    "            \"Today is a    beautiful day\",\n",
    "            \"There are 3 ducks in this pond\",\n",
    "            \"This is. very cool.\",\n",
    "            np.nan,\n",
    "        ]\n",
    "    }\n",
    ")\n",
    "\n",
    "df.text.pipe(hero.clean)"
   ]
  },
  {
   "cell_type": "markdown",
   "id": "87fd442a",
   "metadata": {},
   "source": [
    "Texthero also provides other useful methods to process and visualize text.\n",
    "\n",
    "[Link to texthero](https://github.com/jbesomi/texthero)."
   ]
  },
  {
   "cell_type": "markdown",
   "id": "1ad4bd25",
   "metadata": {},
   "source": [
    "### wordfreq: Estimate the Frequency of a Word in 36 Languages"
   ]
  },
  {
   "cell_type": "markdown",
   "id": "91848980",
   "metadata": {},
   "source": [
    "If you want to look up the frequency of a certain word in your language, try wordfreq.\n",
    "\n",
    "wordfreq supports 36 languages. wordfreq even covers words that appear at least once per 10 million words."
   ]
  },
  {
   "cell_type": "code",
   "execution_count": 31,
   "id": "e5e878a6",
   "metadata": {
    "ExecuteTime": {
     "end_time": "2021-09-12T01:22:51.500416Z",
     "start_time": "2021-09-12T01:22:51.144681Z"
    }
   },
   "outputs": [
    {
     "data": {
      "text/plain": [
       "0.000135"
      ]
     },
     "execution_count": 31,
     "metadata": {},
     "output_type": "execute_result"
    }
   ],
   "source": [
    "import matplotlib.pyplot as plt\n",
    "import seaborn as sns\n",
    "from wordfreq import word_frequency\n",
    "\n",
    "word_frequency(\"eat\", \"en\")"
   ]
  },
  {
   "cell_type": "code",
   "execution_count": 32,
   "id": "969b9e81",
   "metadata": {
    "ExecuteTime": {
     "end_time": "2021-09-12T01:22:59.897654Z",
     "start_time": "2021-09-12T01:22:59.889090Z"
    }
   },
   "outputs": [
    {
     "data": {
      "text/plain": [
       "0.0537"
      ]
     },
     "execution_count": 32,
     "metadata": {},
     "output_type": "execute_result"
    }
   ],
   "source": [
    "word_frequency(\"the\", \"en\")"
   ]
  },
  {
   "cell_type": "code",
   "execution_count": 33,
   "id": "d0341c18",
   "metadata": {
    "ExecuteTime": {
     "end_time": "2021-09-12T01:23:03.673539Z",
     "start_time": "2021-09-12T01:23:03.436036Z"
    }
   },
   "outputs": [
    {
     "name": "stderr",
     "output_type": "stream",
     "text": [
      "/home/khuyen/book/venv/lib/python3.8/site-packages/seaborn/_decorators.py:36: FutureWarning: Pass the following variables as keyword args: x, y. From version 0.12, the only valid positional argument will be `data`, and passing other arguments without an explicit keyword will result in an error or misinterpretation.\n",
      "  warnings.warn(\n"
     ]
    },
    {
     "data": {
      "image/png": "[encoded data removed]",
      "text/plain": [
       "<Figure size 432x288 with 1 Axes>"
      ]
     },
     "metadata": {
      "filenames": {
       "image/png": "/home/khuyen/book/book/_build/jupyter_execute/Chapter4/natural_language_processing_47_1.png"
      },
      "needs_background": "light"
     },
     "output_type": "display_data"
    }
   ],
   "source": [
    "sentence = \"There is a dog running in a park\"\n",
    "words = sentence.split(\" \")\n",
    "word_frequencies = [word_frequency(word, \"en\") for word in words]\n",
    "\n",
    "sns.barplot(words, word_frequencies)\n",
    "plt.show()"
   ]
  },
  {
   "cell_type": "markdown",
   "id": "02e1fa7b",
   "metadata": {},
   "source": [
    "[Link to wordfreq](https://github.com/khuyentran1401/Python-data-science-code-snippet/blob/master/code_snippets/data_science_tools/wordfreq_example.py)."
   ]
  },
  {
   "cell_type": "markdown",
   "id": "f59867fb",
   "metadata": {},
   "source": [
    "### newspaper3k: Extract Meaningful Information From an Articles in 2 Lines of Code"
   ]
  },
  {
   "cell_type": "markdown",
   "id": "53886963",
   "metadata": {},
   "source": [
    "If you want to quickly extract meaningful information from an article in a few lines of code, try newspaper3k. "
   ]
  },
  {
   "cell_type": "code",
   "execution_count": 20,
   "id": "871a498d",
   "metadata": {
    "ExecuteTime": {
     "end_time": "2021-09-11T19:12:24.743567Z",
     "start_time": "2021-09-11T19:12:24.724143Z"
    }
   },
   "outputs": [
    {
     "name": "stderr",
     "output_type": "stream",
     "text": [
      "[nltk_data] Downloading package punkt to /home/khuyen/nltk_data...\n",
      "[nltk_data]   Package punkt is already up-to-date!\n"
     ]
    },
    {
     "data": {
      "text/plain": [
       "True"
      ]
     },
     "execution_count": 20,
     "metadata": {},
     "output_type": "execute_result"
    },
    {
     "data": {
      "application/javascript": [
       "\n",
       "            setTimeout(function() {\n",
       "                var nbb_cell_id = 20;\n",
       "                var nbb_unformatted_code = \"from newspaper import Article\\nimport nltk\\nnltk.download('punkt')\";\n",
       "                var nbb_formatted_code = \"from newspaper import Article\\nimport nltk\\n\\nnltk.download(\\\"punkt\\\")\";\n",
       "                var nbb_cells = Jupyter.notebook.get_cells();\n",
       "                for (var i = 0; i < nbb_cells.length; ++i) {\n",
       "                    if (nbb_cells[i].input_prompt_number == nbb_cell_id) {\n",
       "                        if (nbb_cells[i].get_text() == nbb_unformatted_code) {\n",
       "                             nbb_cells[i].set_text(nbb_formatted_code);\n",
       "                        }\n",
       "                        break;\n",
       "                    }\n",
       "                }\n",
       "            }, 500);\n",
       "            "
      ],
      "text/plain": [
       "<IPython.core.display.Javascript object>"
      ]
     },
     "metadata": {},
     "output_type": "display_data"
    }
   ],
   "source": [
    "from newspaper import Article\n",
    "import nltk\n",
    "\n",
    "nltk.download(\"punkt\")"
   ]
  },
  {
   "cell_type": "code",
   "execution_count": 21,
   "id": "86b65cc9",
   "metadata": {
    "ExecuteTime": {
     "end_time": "2021-09-11T19:12:33.703140Z",
     "start_time": "2021-09-11T19:12:32.623817Z"
    }
   },
   "outputs": [
    {
     "data": {
      "application/javascript": [
       "\n",
       "            setTimeout(function() {\n",
       "                var nbb_cell_id = 21;\n",
       "                var nbb_unformatted_code = \"url = \\\"https://www.dataquest.io/blog/learn-data-science/\\\"\\narticle = Article(url)\\narticle.download()\\narticle.parse()\";\n",
       "                var nbb_formatted_code = \"url = \\\"https://www.dataquest.io/blog/learn-data-science/\\\"\\narticle = Article(url)\\narticle.download()\\narticle.parse()\";\n",
       "                var nbb_cells = Jupyter.notebook.get_cells();\n",
       "                for (var i = 0; i < nbb_cells.length; ++i) {\n",
       "                    if (nbb_cells[i].input_prompt_number == nbb_cell_id) {\n",
       "                        if (nbb_cells[i].get_text() == nbb_unformatted_code) {\n",
       "                             nbb_cells[i].set_text(nbb_formatted_code);\n",
       "                        }\n",
       "                        break;\n",
       "                    }\n",
       "                }\n",
       "            }, 500);\n",
       "            "
      ],
      "text/plain": [
       "<IPython.core.display.Javascript object>"
      ]
     },
     "metadata": {},
     "output_type": "display_data"
    }
   ],
   "source": [
    "url = \"https://www.dataquest.io/blog/learn-data-science/\"\n",
    "article = Article(url)\n",
    "article.download()\n",
    "article.parse()"
   ]
  },
  {
   "cell_type": "code",
   "execution_count": 22,
   "id": "4c1d4b49",
   "metadata": {
    "ExecuteTime": {
     "end_time": "2021-09-11T19:12:39.679832Z",
     "start_time": "2021-09-11T19:12:39.663924Z"
    }
   },
   "outputs": [
    {
     "data": {
      "text/plain": [
       "'How to Learn Data Science (A step-by-step guide)'"
      ]
     },
     "execution_count": 22,
     "metadata": {},
     "output_type": "execute_result"
    },
    {
     "data": {
      "application/javascript": [
       "\n",
       "            setTimeout(function() {\n",
       "                var nbb_cell_id = 22;\n",
       "                var nbb_unformatted_code = \"article.title\";\n",
       "                var nbb_formatted_code = \"article.title\";\n",
       "                var nbb_cells = Jupyter.notebook.get_cells();\n",
       "                for (var i = 0; i < nbb_cells.length; ++i) {\n",
       "                    if (nbb_cells[i].input_prompt_number == nbb_cell_id) {\n",
       "                        if (nbb_cells[i].get_text() == nbb_unformatted_code) {\n",
       "                             nbb_cells[i].set_text(nbb_formatted_code);\n",
       "                        }\n",
       "                        break;\n",
       "                    }\n",
       "                }\n",
       "            }, 500);\n",
       "            "
      ],
      "text/plain": [
       "<IPython.core.display.Javascript object>"
      ]
     },
     "metadata": {},
     "output_type": "display_data"
    }
   ],
   "source": [
    "article.title"
   ]
  },
  {
   "cell_type": "code",
   "execution_count": 23,
   "id": "4b60c35e",
   "metadata": {
    "ExecuteTime": {
     "end_time": "2021-09-11T19:12:44.416486Z",
     "start_time": "2021-09-11T19:12:44.400053Z"
    }
   },
   "outputs": [
    {
     "data": {
      "text/plain": [
       "datetime.datetime(2020, 5, 4, 7, 1, tzinfo=tzutc())"
      ]
     },
     "execution_count": 23,
     "metadata": {},
     "output_type": "execute_result"
    },
    {
     "data": {
      "application/javascript": [
       "\n",
       "            setTimeout(function() {\n",
       "                var nbb_cell_id = 23;\n",
       "                var nbb_unformatted_code = \"article.publish_date\";\n",
       "                var nbb_formatted_code = \"article.publish_date\";\n",
       "                var nbb_cells = Jupyter.notebook.get_cells();\n",
       "                for (var i = 0; i < nbb_cells.length; ++i) {\n",
       "                    if (nbb_cells[i].input_prompt_number == nbb_cell_id) {\n",
       "                        if (nbb_cells[i].get_text() == nbb_unformatted_code) {\n",
       "                             nbb_cells[i].set_text(nbb_formatted_code);\n",
       "                        }\n",
       "                        break;\n",
       "                    }\n",
       "                }\n",
       "            }, 500);\n",
       "            "
      ],
      "text/plain": [
       "<IPython.core.display.Javascript object>"
      ]
     },
     "metadata": {},
     "output_type": "display_data"
    }
   ],
   "source": [
    "article.publish_date"
   ]
  },
  {
   "cell_type": "code",
   "execution_count": 24,
   "id": "30b9a070",
   "metadata": {
    "ExecuteTime": {
     "end_time": "2021-09-11T19:12:49.319814Z",
     "start_time": "2021-09-11T19:12:49.304319Z"
    }
   },
   "outputs": [
    {
     "data": {
      "text/plain": [
       "'https://www.dataquest.io/wp-content/uploads/2020/05/learn-data-science.jpg'"
      ]
     },
     "execution_count": 24,
     "metadata": {},
     "output_type": "execute_result"
    },
    {
     "data": {
      "application/javascript": [
       "\n",
       "            setTimeout(function() {\n",
       "                var nbb_cell_id = 24;\n",
       "                var nbb_unformatted_code = \"article.top_image\";\n",
       "                var nbb_formatted_code = \"article.top_image\";\n",
       "                var nbb_cells = Jupyter.notebook.get_cells();\n",
       "                for (var i = 0; i < nbb_cells.length; ++i) {\n",
       "                    if (nbb_cells[i].input_prompt_number == nbb_cell_id) {\n",
       "                        if (nbb_cells[i].get_text() == nbb_unformatted_code) {\n",
       "                             nbb_cells[i].set_text(nbb_formatted_code);\n",
       "                        }\n",
       "                        break;\n",
       "                    }\n",
       "                }\n",
       "            }, 500);\n",
       "            "
      ],
      "text/plain": [
       "<IPython.core.display.Javascript object>"
      ]
     },
     "metadata": {},
     "output_type": "display_data"
    }
   ],
   "source": [
    "article.top_image"
   ]
  },
  {
   "cell_type": "code",
   "execution_count": 25,
   "id": "6c128f0f",
   "metadata": {
    "ExecuteTime": {
     "end_time": "2021-09-11T19:12:56.330559Z",
     "start_time": "2021-09-11T19:12:56.271488Z"
    }
   },
   "outputs": [
    {
     "data": {
      "application/javascript": [
       "\n",
       "            setTimeout(function() {\n",
       "                var nbb_cell_id = 25;\n",
       "                var nbb_unformatted_code = \"article.nlp()\";\n",
       "                var nbb_formatted_code = \"article.nlp()\";\n",
       "                var nbb_cells = Jupyter.notebook.get_cells();\n",
       "                for (var i = 0; i < nbb_cells.length; ++i) {\n",
       "                    if (nbb_cells[i].input_prompt_number == nbb_cell_id) {\n",
       "                        if (nbb_cells[i].get_text() == nbb_unformatted_code) {\n",
       "                             nbb_cells[i].set_text(nbb_formatted_code);\n",
       "                        }\n",
       "                        break;\n",
       "                    }\n",
       "                }\n",
       "            }, 500);\n",
       "            "
      ],
      "text/plain": [
       "<IPython.core.display.Javascript object>"
      ]
     },
     "metadata": {},
     "output_type": "display_data"
    }
   ],
   "source": [
    "article.nlp()"
   ]
  },
  {
   "cell_type": "code",
   "execution_count": 26,
   "id": "46aec82e",
   "metadata": {
    "ExecuteTime": {
     "end_time": "2021-09-11T19:13:00.681926Z",
     "start_time": "2021-09-11T19:13:00.666440Z"
    }
   },
   "outputs": [
    {
     "data": {
      "text/plain": [
       "'How to Learn Data ScienceSo how do you start to learn data science?\\nIf you want to learn data science or just pick up some data science skills, your first goal should be to learn to love data.\\nRather, consider it as a rough set of guidelines to follow as you learn data science on your own path.\\nI personally believe that anyone can learn data science if they approach it with the right frame of mind.\\nI’m also the founder of Dataquest, a site that helps you learn data science in your browser.'"
      ]
     },
     "execution_count": 26,
     "metadata": {},
     "output_type": "execute_result"
    },
    {
     "data": {
      "application/javascript": [
       "\n",
       "            setTimeout(function() {\n",
       "                var nbb_cell_id = 26;\n",
       "                var nbb_unformatted_code = \"article.summary\";\n",
       "                var nbb_formatted_code = \"article.summary\";\n",
       "                var nbb_cells = Jupyter.notebook.get_cells();\n",
       "                for (var i = 0; i < nbb_cells.length; ++i) {\n",
       "                    if (nbb_cells[i].input_prompt_number == nbb_cell_id) {\n",
       "                        if (nbb_cells[i].get_text() == nbb_unformatted_code) {\n",
       "                             nbb_cells[i].set_text(nbb_formatted_code);\n",
       "                        }\n",
       "                        break;\n",
       "                    }\n",
       "                }\n",
       "            }, 500);\n",
       "            "
      ],
      "text/plain": [
       "<IPython.core.display.Javascript object>"
      ]
     },
     "metadata": {},
     "output_type": "display_data"
    }
   ],
   "source": [
    "article.summary"
   ]
  },
  {
   "cell_type": "code",
   "execution_count": 27,
   "id": "1a369252",
   "metadata": {
    "ExecuteTime": {
     "end_time": "2021-09-11T19:13:05.338257Z",
     "start_time": "2021-09-11T19:13:05.322325Z"
    }
   },
   "outputs": [
    {
     "data": {
      "text/plain": [
       "['scientists',\n",
       " 'guide',\n",
       " 'learning',\n",
       " 'youre',\n",
       " 'science',\n",
       " 'work',\n",
       " 'skills',\n",
       " 'youll',\n",
       " 'data',\n",
       " 'learn',\n",
       " 'stepbystep',\n",
       " 'need']"
      ]
     },
     "execution_count": 27,
     "metadata": {},
     "output_type": "execute_result"
    },
    {
     "data": {
      "application/javascript": [
       "\n",
       "            setTimeout(function() {\n",
       "                var nbb_cell_id = 27;\n",
       "                var nbb_unformatted_code = \"article.keywords\";\n",
       "                var nbb_formatted_code = \"article.keywords\";\n",
       "                var nbb_cells = Jupyter.notebook.get_cells();\n",
       "                for (var i = 0; i < nbb_cells.length; ++i) {\n",
       "                    if (nbb_cells[i].input_prompt_number == nbb_cell_id) {\n",
       "                        if (nbb_cells[i].get_text() == nbb_unformatted_code) {\n",
       "                             nbb_cells[i].set_text(nbb_formatted_code);\n",
       "                        }\n",
       "                        break;\n",
       "                    }\n",
       "                }\n",
       "            }, 500);\n",
       "            "
      ],
      "text/plain": [
       "<IPython.core.display.Javascript object>"
      ]
     },
     "metadata": {},
     "output_type": "display_data"
    }
   ],
   "source": [
    "article.keywords"
   ]
  },
  {
   "cell_type": "markdown",
   "id": "8e41e131",
   "metadata": {},
   "source": [
    "[Link to newspaper3k](https://newspaper.readthedocs.io/en/latest/user_guide/quickstart.html?highlight=parse#performing-nlp-on-an-article).\n",
    "\n"
   ]
  }
 ],
 "metadata": {
  "celltoolbar": "Tags",
  "kernelspec": {
   "display_name": "Python 3 (ipykernel)",
   "language": "python",
   "name": "python3"
  },
  "language_info": {
   "codemirror_mode": {
    "name": "ipython",
    "version": 3
   },
   "file_extension": ".py",
   "mimetype": "text/x-python",
   "name": "python",
   "nbconvert_exporter": "python",
   "pygments_lexer": "ipython3",
   "version": "3.8.10"
  },
  "toc": {
   "base_numbering": 1,
   "nav_menu": {},
   "number_sections": true,
   "sideBar": true,
   "skip_h1_title": false,
   "title_cell": "Table of Contents",
   "title_sidebar": "Contents",
   "toc_cell": false,
   "toc_position": {},
   "toc_section_display": true,
   "toc_window_display": false
  }
 },
 "nbformat": 4,
 "nbformat_minor": 5
}